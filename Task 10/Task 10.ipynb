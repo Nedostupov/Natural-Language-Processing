{
  "cells": [
    {
      "cell_type": "markdown",
      "metadata": {
        "id": "J0Qjg6vuaHNt"
      },
      "source": [
        "# Neural machine translation"
      ]
    },
    {
      "cell_type": "code",
      "execution_count": 1,
      "metadata": {
        "id": "tnxXKDjq3jEL"
      },
      "outputs": [],
      "source": [
        "import tensorflow as tf\n",
        "\n",
        "import matplotlib.pyplot as plt\n",
        "import matplotlib.ticker as ticker\n",
        "from sklearn.model_selection import train_test_split\n",
        "\n",
        "import unicodedata\n",
        "import re\n",
        "import numpy as np\n",
        "import os\n",
        "import io\n",
        "import time"
      ]
    },
    {
      "cell_type": "markdown",
      "metadata": {
        "id": "wfodePkj3jEa"
      },
      "source": [
        "## Download and prepare the dataset"
      ]
    },
    {
      "cell_type": "code",
      "execution_count": 2,
      "metadata": {
        "colab": {
          "base_uri": "https://localhost:8080/"
        },
        "id": "CNvjhDyAKk3U",
        "outputId": "707c968a-5c1c-4ff8-b4b2-f7ed0c82e213"
      },
      "outputs": [
        {
          "output_type": "stream",
          "name": "stdout",
          "text": [
            "--2022-07-14 15:13:26--  http://www.manythings.org/anki/rus-eng.zip\n",
            "Resolving www.manythings.org (www.manythings.org)... 173.254.30.110\n",
            "Connecting to www.manythings.org (www.manythings.org)|173.254.30.110|:80... connected.\n",
            "HTTP request sent, awaiting response... 200 OK\n",
            "Length: 14819554 (14M) [application/zip]\n",
            "Saving to: ‘rus-eng.zip’\n",
            "\n",
            "rus-eng.zip         100%[===================>]  14.13M  17.1MB/s    in 0.8s    \n",
            "\n",
            "2022-07-14 15:13:27 (17.1 MB/s) - ‘rus-eng.zip’ saved [14819554/14819554]\n",
            "\n"
          ]
        }
      ],
      "source": [
        "!wget http://www.manythings.org/anki/rus-eng.zip"
      ]
    },
    {
      "cell_type": "code",
      "execution_count": 3,
      "metadata": {
        "colab": {
          "base_uri": "https://localhost:8080/"
        },
        "id": "83bg17Lr-7XK",
        "outputId": "3eff396b-b2cb-4b3e-9514-2901e07d8c8b"
      },
      "outputs": [
        {
          "output_type": "stream",
          "name": "stdout",
          "text": [
            "Archive:  rus-eng.zip\n",
            "  inflating: rus-eng/rus.txt         \n",
            "  inflating: rus-eng/_about.txt      \n"
          ]
        }
      ],
      "source": [
        "!mkdir rus-eng\n",
        "!unzip rus-eng.zip -d rus-eng/"
      ]
    },
    {
      "cell_type": "code",
      "execution_count": 4,
      "metadata": {
        "id": "7o5L92efMMhf",
        "colab": {
          "base_uri": "https://localhost:8080/"
        },
        "outputId": "df577b42-f238-4129-c269-de90c772a277"
      },
      "outputs": [
        {
          "output_type": "stream",
          "name": "stdout",
          "text": [
            "total 71M\n",
            "drwxr-xr-x 2 root root 4.0K Jul 14 15:13 .\n",
            "drwxr-xr-x 1 root root 4.0K Jul 14 15:13 ..\n",
            "-rw-r--r-- 1 root root 1.5K May  2 01:29 _about.txt\n",
            "-rw-r--r-- 1 root root  71M May  2 01:29 rus.txt\n"
          ]
        }
      ],
      "source": [
        "!ls /content/rus-eng/ -lah"
      ]
    },
    {
      "cell_type": "code",
      "execution_count": 5,
      "metadata": {
        "id": "kRVATYOgJs1b"
      },
      "outputs": [],
      "source": [
        "# Download the file\n",
        "path_to_file = \"/content/rus-eng/rus.txt\""
      ]
    },
    {
      "cell_type": "code",
      "execution_count": 6,
      "metadata": {
        "id": "rd0jw-eC3jEh"
      },
      "outputs": [],
      "source": [
        "def preprocess_sentence(w):\n",
        "  w = w.lower().strip()\n",
        "\n",
        "  # creating a space between a word and the punctuation following it\n",
        "  # eg: \"he is a boy.\" => \"he is a boy .\"\n",
        "  # Reference:- https://stackoverflow.com/questions/3645931/python-padding-punctuation-with-white-spaces-keeping-punctuation\n",
        "  w = re.sub(r\"([?.!,])\", r\" \\1 \", w)\n",
        "  w = re.sub(r'[\" \"]+', \" \", w)\n",
        "\n",
        "  # replacing everything with space except (a-z, A-Z, \".\", \"?\", \"!\", \",\")\n",
        "  w = re.sub(r\"[^a-zA-Zа-яА-Я?.!,']+\", \" \", w)\n",
        "\n",
        "  w = w.strip()\n",
        "\n",
        "  # adding a start and an end token to the sentence\n",
        "  # so that the model know when to start and stop predicting.\n",
        "  w = '<start> ' + w + ' <end>'\n",
        "  return w"
      ]
    },
    {
      "cell_type": "code",
      "execution_count": 7,
      "metadata": {
        "id": "yV9lZXQXNbnH",
        "colab": {
          "base_uri": "https://localhost:8080/",
          "height": 35
        },
        "outputId": "8a410945-422b-4f16-a769-a5436efa6fcc"
      },
      "outputs": [
        {
          "output_type": "execute_result",
          "data": {
            "text/plain": [
              "\"<start> i can't go . <end>\""
            ],
            "application/vnd.google.colaboratory.intrinsic+json": {
              "type": "string"
            }
          },
          "metadata": {},
          "execution_count": 7
        }
      ],
      "source": [
        "preprocess_sentence(\"I can't go.\")"
      ]
    },
    {
      "cell_type": "code",
      "execution_count": 8,
      "metadata": {
        "id": "OHn4Dct23jEm"
      },
      "outputs": [],
      "source": [
        "# 1. Remove the accents\n",
        "# 2. Clean the sentences\n",
        "# 3. Return word pairs in the format: [ENG, RUS]\n",
        "def create_dataset(path, num_examples):\n",
        "  lines = io.open(path, encoding='UTF-8').read().strip().split('\\n')\n",
        "\n",
        "  word_pairs = [[preprocess_sentence(w) for w in l.split('\\t')[:2]]  for l in lines[:num_examples]]\n",
        "\n",
        "  return zip(*word_pairs)"
      ]
    },
    {
      "cell_type": "code",
      "execution_count": 9,
      "metadata": {
        "colab": {
          "base_uri": "https://localhost:8080/"
        },
        "id": "cTbSbBz55QtF",
        "outputId": "dc7a847b-ee93-4e69-cf5f-48ddac0c6215"
      },
      "outputs": [
        {
          "output_type": "stream",
          "name": "stdout",
          "text": [
            "<start> go . <end>\n",
            "<start> марш ! <end>\n"
          ]
        }
      ],
      "source": [
        "en, ru = create_dataset(path_to_file, None)\n",
        "print(en[0])\n",
        "print(ru[0])"
      ]
    },
    {
      "cell_type": "code",
      "execution_count": 10,
      "metadata": {
        "id": "bIOn8RCNDJXG"
      },
      "outputs": [],
      "source": [
        "def tokenize(lang):\n",
        "  lang_tokenizer = tf.keras.preprocessing.text.Tokenizer(\n",
        "      filters='')\n",
        "  lang_tokenizer.fit_on_texts(lang)\n",
        "\n",
        "  tensor = lang_tokenizer.texts_to_sequences(lang)\n",
        "\n",
        "  tensor = tf.keras.preprocessing.sequence.pad_sequences(tensor,\n",
        "                                                         padding='post')\n",
        "\n",
        "  return tensor, lang_tokenizer"
      ]
    },
    {
      "cell_type": "code",
      "execution_count": 11,
      "metadata": {
        "id": "eAY9k49G3jE_"
      },
      "outputs": [],
      "source": [
        "def load_dataset(path, num_examples=None):\n",
        "  # creating cleaned input, output pairs\n",
        "  inp_lang, targ_lang = create_dataset(path, num_examples)\n",
        "\n",
        "  input_tensor, inp_lang_tokenizer = tokenize(inp_lang)\n",
        "  target_tensor, targ_lang_tokenizer = tokenize(targ_lang)\n",
        "\n",
        "  return input_tensor, target_tensor, inp_lang_tokenizer, targ_lang_tokenizer"
      ]
    },
    {
      "cell_type": "markdown",
      "metadata": {
        "id": "GOi42V79Ydlr"
      },
      "source": [
        "### Limit the size of the dataset to experiment faster (optional)\n"
      ]
    },
    {
      "cell_type": "code",
      "execution_count": 12,
      "metadata": {
        "colab": {
          "base_uri": "https://localhost:8080/"
        },
        "id": "C8j9g9AnIeZV",
        "outputId": "6642d832-c1ea-4828-b385-ffa6c8ad762e"
      },
      "outputs": [
        {
          "output_type": "execute_result",
          "data": {
            "text/plain": [
              "(444587, 444587)"
            ]
          },
          "metadata": {},
          "execution_count": 12
        }
      ],
      "source": [
        "len(en), len(ru)"
      ]
    },
    {
      "cell_type": "code",
      "execution_count": 13,
      "metadata": {
        "id": "cnxC7q-j3jFD"
      },
      "outputs": [],
      "source": [
        "# Try experimenting with the size of that dataset\n",
        "num_examples = 100000\n",
        "input_tensor, target_tensor, inp_lang, targ_lang = load_dataset(path_to_file, num_examples)\n",
        "\n",
        "# Calculate max_length of the target tensors\n",
        "max_length_targ, max_length_inp = target_tensor.shape[1], input_tensor.shape[1]"
      ]
    },
    {
      "cell_type": "code",
      "execution_count": 14,
      "metadata": {
        "colab": {
          "base_uri": "https://localhost:8080/"
        },
        "id": "4QILQkOs3jFG",
        "outputId": "90833b85-3e47-4cb8-a343-9853be16cf0a"
      },
      "outputs": [
        {
          "output_type": "stream",
          "name": "stdout",
          "text": [
            "80000 80000 20000 20000\n"
          ]
        }
      ],
      "source": [
        "# Creating training and validation sets using an 80-20 split\n",
        "input_tensor_train, input_tensor_val, target_tensor_train, target_tensor_val = train_test_split(input_tensor, target_tensor, test_size=0.2)\n",
        "\n",
        "# Show length\n",
        "print(len(input_tensor_train), len(target_tensor_train), len(input_tensor_val), len(target_tensor_val))"
      ]
    },
    {
      "cell_type": "code",
      "execution_count": 15,
      "metadata": {
        "id": "lJPmLZGMeD5q"
      },
      "outputs": [],
      "source": [
        "def convert(lang, tensor):\n",
        "  for t in tensor:\n",
        "    if t!=0:\n",
        "      print (\"%d ----> %s\" % (t, lang.index_word[t]))"
      ]
    },
    {
      "cell_type": "code",
      "execution_count": 16,
      "metadata": {
        "colab": {
          "base_uri": "https://localhost:8080/"
        },
        "id": "VXukARTDd7MT",
        "outputId": "5b9af0c9-f741-43ef-a169-9f238b261c5d"
      },
      "outputs": [
        {
          "output_type": "stream",
          "name": "stdout",
          "text": [
            "Input Language; index to word mapping\n",
            "1 ----> <start>\n",
            "102 ----> where\n",
            "15 ----> do\n",
            "4 ----> i\n",
            "126 ----> find\n",
            "18 ----> that\n",
            "6 ----> ?\n",
            "2 ----> <end>\n",
            "\n",
            "Target Language; index to word mapping\n",
            "1 ----> <start>\n",
            "53 ----> где\n",
            "12 ----> мне\n",
            "8 ----> это\n",
            "247 ----> найти\n",
            "5 ----> ?\n",
            "2 ----> <end>\n"
          ]
        }
      ],
      "source": [
        "print (\"Input Language; index to word mapping\")\n",
        "convert(inp_lang, input_tensor_train[0])\n",
        "print ()\n",
        "print (\"Target Language; index to word mapping\")\n",
        "convert(targ_lang, target_tensor_train[0])"
      ]
    },
    {
      "cell_type": "markdown",
      "metadata": {
        "id": "rgCLkfv5uO3d"
      },
      "source": [
        "### Create a tf.data dataset"
      ]
    },
    {
      "cell_type": "code",
      "execution_count": 17,
      "metadata": {
        "id": "TqHsArVZ3jFS"
      },
      "outputs": [],
      "source": [
        "BUFFER_SIZE = len(input_tensor_train)\n",
        "BATCH_SIZE = 64\n",
        "steps_per_epoch = len(input_tensor_train)//BATCH_SIZE\n",
        "embedding_dim = 300\n",
        "units = 1024\n",
        "vocab_inp_size = len(inp_lang.word_index)+1\n",
        "vocab_tar_size = len(targ_lang.word_index)+1\n",
        "\n",
        "dataset = tf.data.Dataset.from_tensor_slices((input_tensor_train, target_tensor_train)).shuffle(BUFFER_SIZE)\n",
        "dataset = dataset.batch(BATCH_SIZE, drop_remainder=True)"
      ]
    },
    {
      "cell_type": "code",
      "execution_count": 18,
      "metadata": {
        "colab": {
          "base_uri": "https://localhost:8080/"
        },
        "id": "qc6-NK1GtWQt",
        "outputId": "209fce56-faf5-49c3-c7df-9a2a2dc49853"
      },
      "outputs": [
        {
          "output_type": "execute_result",
          "data": {
            "text/plain": [
              "(TensorShape([64, 11]), TensorShape([64, 15]))"
            ]
          },
          "metadata": {},
          "execution_count": 18
        }
      ],
      "source": [
        "example_input_batch, example_target_batch = next(iter(dataset))\n",
        "example_input_batch.shape, example_target_batch.shape"
      ]
    },
    {
      "cell_type": "code",
      "execution_count": 19,
      "metadata": {
        "id": "nZ2rI24i3jFg"
      },
      "outputs": [],
      "source": [
        "class Encoder(tf.keras.Model):\n",
        "  def __init__(self, vocab_size, embedding_dim, enc_units, batch_sz):\n",
        "    super(Encoder, self).__init__()\n",
        "    self.batch_sz = batch_sz\n",
        "    self.enc_units = enc_units\n",
        "    self.embedding = tf.keras.layers.Embedding(vocab_size, embedding_dim)\n",
        "    self.gru = tf.keras.layers.GRU(self.enc_units,\n",
        "                                   return_sequences=False,\n",
        "                                   return_state=True,\n",
        "                                   recurrent_initializer='glorot_uniform')\n",
        "    \n",
        "\n",
        "  def call(self, x, hidden):\n",
        "    x = self.embedding(x)\n",
        "    output, state = self.gru(x, initial_state = hidden)\n",
        "    return state\n",
        "\n",
        "  def initialize_hidden_state(self):\n",
        "    return tf.zeros((self.batch_sz, self.enc_units))"
      ]
    },
    {
      "cell_type": "code",
      "execution_count": 20,
      "metadata": {
        "colab": {
          "base_uri": "https://localhost:8080/"
        },
        "id": "60gSVh05Jl6l",
        "outputId": "39ccd0e2-cf0f-47cf-ca90-80c798d31ef2"
      },
      "outputs": [
        {
          "output_type": "stream",
          "name": "stdout",
          "text": [
            "Encoder Hidden state shape: (batch size, units) (64, 1024)\n"
          ]
        }
      ],
      "source": [
        "encoder = Encoder(vocab_inp_size, embedding_dim, units, BATCH_SIZE)\n",
        "\n",
        "# sample input\n",
        "sample_hidden = encoder.initialize_hidden_state()\n",
        "sample_hidden = encoder(example_input_batch, sample_hidden)\n",
        "# print ('Encoder output shape: (batch size, sequence length, units) {}'.format(sample_output.shape))\n",
        "print ('Encoder Hidden state shape: (batch size, units) {}'.format(sample_hidden.shape))"
      ]
    },
    {
      "cell_type": "code",
      "execution_count": 21,
      "metadata": {
        "id": "yJ_B3mhW3jFk"
      },
      "outputs": [],
      "source": [
        "class Decoder(tf.keras.Model):\n",
        "  def __init__(self, vocab_size, embedding_dim, dec_units, batch_sz):\n",
        "    super(Decoder, self).__init__()\n",
        "    self.batch_sz = batch_sz\n",
        "    self.dec_units = dec_units\n",
        "    self.embedding = tf.keras.layers.Embedding(vocab_size, embedding_dim)\n",
        "    self.gru = tf.keras.layers.GRU(self.dec_units,\n",
        "                                   return_sequences=True,\n",
        "                                   return_state=True,\n",
        "                                   recurrent_initializer='glorot_uniform')\n",
        "    self.fc = tf.keras.layers.Dense(vocab_size)\n",
        "\n",
        "  def call(self, x, hidden):\n",
        "    # enc_output shape == (batch_size, max_length, hidden_size)\n",
        "\n",
        "    # x shape after passing through embedding == (batch_size, 1, embedding_dim)\n",
        "    x = self.embedding(x)\n",
        "\n",
        "    # x shape after concatenation == (batch_size, 1, embedding_dim + hidden_size)\n",
        "\n",
        "    # passing the concatenated vector to the GRU\n",
        "    output, state = self.gru(x, initial_state=hidden)\n",
        "\n",
        "    # output shape == (batch_size * 1, hidden_size)\n",
        "    output = tf.reshape(output, (-1, output.shape[2]))\n",
        "\n",
        "    # output shape == (batch_size, vocab)\n",
        "    x = self.fc(output)\n",
        "\n",
        "    return x, state"
      ]
    },
    {
      "cell_type": "code",
      "execution_count": 22,
      "metadata": {
        "id": "P5UY8wko3jFp"
      },
      "outputs": [],
      "source": [
        "decoder = Decoder(vocab_tar_size, embedding_dim, units, BATCH_SIZE)\n",
        "\n",
        "decoder_sample_x, decoder_sample_h = decoder(tf.random.uniform((BATCH_SIZE, 1)),\n",
        "                                      sample_hidden)\n",
        "\n"
      ]
    },
    {
      "cell_type": "code",
      "execution_count": 23,
      "metadata": {
        "colab": {
          "base_uri": "https://localhost:8080/"
        },
        "id": "XKcypC0AGeLR",
        "outputId": "e5c26aeb-a9ad-4e84-f6e1-3392628b1e52"
      },
      "outputs": [
        {
          "output_type": "execute_result",
          "data": {
            "text/plain": [
              "TensorShape([64, 20544])"
            ]
          },
          "metadata": {},
          "execution_count": 23
        }
      ],
      "source": [
        "decoder_sample_x.shape"
      ]
    },
    {
      "cell_type": "code",
      "execution_count": 24,
      "metadata": {
        "colab": {
          "base_uri": "https://localhost:8080/"
        },
        "id": "6y0HF-zMF_vp",
        "outputId": "e4d945ef-5a27-4192-cf3a-cb06f18db210"
      },
      "outputs": [
        {
          "output_type": "execute_result",
          "data": {
            "text/plain": [
              "TensorShape([64, 1024])"
            ]
          },
          "metadata": {},
          "execution_count": 24
        }
      ],
      "source": [
        "decoder_sample_h.shape"
      ]
    },
    {
      "cell_type": "markdown",
      "metadata": {
        "id": "_ch_71VbIRfK"
      },
      "source": [
        "## Define the optimizer and the loss function"
      ]
    },
    {
      "cell_type": "code",
      "execution_count": 25,
      "metadata": {
        "id": "WmTHr5iV3jFr"
      },
      "outputs": [],
      "source": [
        "optimizer = tf.keras.optimizers.Adam()\n",
        "\n",
        "loss_object = tf.keras.losses.SparseCategoricalCrossentropy(\n",
        "    from_logits=True, reduction='none')\n",
        "\n",
        "def loss_function(real, pred):\n",
        "  mask = tf.math.logical_not(tf.math.equal(real, 0))\n",
        "  loss_ = loss_object(real, pred)\n",
        "\n",
        "  mask = tf.cast(mask, dtype=loss_.dtype)\n",
        "  loss_ *= mask\n",
        "\n",
        "  return tf.reduce_mean(loss_)"
      ]
    },
    {
      "cell_type": "markdown",
      "metadata": {
        "id": "DMVWzzsfNl4e"
      },
      "source": [
        "## Checkpoints (Object-based saving)"
      ]
    },
    {
      "cell_type": "code",
      "execution_count": 26,
      "metadata": {
        "id": "Zj8bXQTgNwrF"
      },
      "outputs": [],
      "source": [
        "checkpoint_dir = './training_nmt_checkpoints'\n",
        "\n",
        "checkpoint_prefix = os.path.join(checkpoint_dir, \"ckpt\")\n",
        "\n",
        "checkpoint = tf.train.Checkpoint(optimizer=optimizer,\n",
        "                                 encoder=encoder,\n",
        "                                 decoder=decoder)"
      ]
    },
    {
      "cell_type": "code",
      "execution_count": 27,
      "metadata": {
        "id": "sC9ArXSsVfqn"
      },
      "outputs": [],
      "source": [
        "@tf.function\n",
        "def train_step(inp, targ, enc_hidden):\n",
        "  loss = 0\n",
        "\n",
        "  with tf.GradientTape() as tape:\n",
        "    enc_hidden = encoder(inp, enc_hidden)\n",
        "\n",
        "    dec_hidden = enc_hidden\n",
        "\n",
        "    dec_input = tf.expand_dims([targ_lang.word_index['<start>']] * BATCH_SIZE, 1)\n",
        "\n",
        "    # Teacher forcing - feeding the target as the next input\n",
        "    for t in range(1, targ.shape[1]):\n",
        "      # passing enc_output to the decoder\n",
        "      predictions, dec_hidden = decoder(dec_input, dec_hidden)\n",
        "\n",
        "      loss += loss_function(targ[:, t], predictions)\n",
        "\n",
        "      # using teacher forcing\n",
        "      dec_input = tf.expand_dims(targ[:, t], 1)\n",
        "\n",
        "  batch_loss = (loss / int(targ.shape[1]))\n",
        "\n",
        "  variables = encoder.trainable_variables + decoder.trainable_variables\n",
        "\n",
        "  gradients = tape.gradient(loss, variables)\n",
        "\n",
        "  optimizer.apply_gradients(zip(gradients, variables))\n",
        "\n",
        "  return batch_loss"
      ]
    },
    {
      "cell_type": "code",
      "execution_count": 28,
      "metadata": {
        "colab": {
          "base_uri": "https://localhost:8080/"
        },
        "id": "ddefjBMa3jF0",
        "outputId": "7f0d87c9-fbc0-4c5c-d742-abe081dda526"
      },
      "outputs": [
        {
          "output_type": "stream",
          "name": "stdout",
          "text": [
            "Epoch 1 Batch 0 Loss 3.5583\n",
            "Epoch 1 Batch 100 Loss 1.7954\n",
            "Epoch 1 Batch 200 Loss 1.7430\n",
            "Epoch 1 Batch 300 Loss 1.6076\n",
            "Epoch 1 Batch 400 Loss 1.5207\n",
            "Epoch 1 Batch 500 Loss 1.3582\n",
            "Epoch 1 Batch 600 Loss 1.2641\n",
            "Epoch 1 Batch 700 Loss 1.2390\n",
            "Epoch 1 Batch 800 Loss 1.2402\n",
            "Epoch 1 Batch 900 Loss 1.0521\n",
            "Epoch 1 Batch 1000 Loss 1.0250\n",
            "Epoch 1 Batch 1100 Loss 0.9441\n",
            "Epoch 1 Batch 1200 Loss 0.9931\n",
            "Epoch 1 Loss 1.4007\n",
            "Time taken for 1 epoch 132.8833155632019 sec\n",
            "\n",
            "Epoch 2 Batch 0 Loss 0.9018\n",
            "Epoch 2 Batch 100 Loss 0.8274\n",
            "Epoch 2 Batch 200 Loss 0.8795\n",
            "Epoch 2 Batch 300 Loss 0.8191\n",
            "Epoch 2 Batch 400 Loss 0.8138\n",
            "Epoch 2 Batch 500 Loss 0.7723\n",
            "Epoch 2 Batch 600 Loss 0.7247\n",
            "Epoch 2 Batch 700 Loss 0.7511\n",
            "Epoch 2 Batch 800 Loss 0.7256\n",
            "Epoch 2 Batch 900 Loss 0.6979\n",
            "Epoch 2 Batch 1000 Loss 0.6768\n",
            "Epoch 2 Batch 1100 Loss 0.7163\n",
            "Epoch 2 Batch 1200 Loss 0.6740\n",
            "Epoch 2 Loss 0.7618\n",
            "Time taken for 1 epoch 113.4799108505249 sec\n",
            "\n",
            "Epoch 3 Batch 0 Loss 0.4922\n",
            "Epoch 3 Batch 100 Loss 0.4282\n",
            "Epoch 3 Batch 200 Loss 0.4559\n",
            "Epoch 3 Batch 300 Loss 0.4812\n",
            "Epoch 3 Batch 400 Loss 0.4396\n",
            "Epoch 3 Batch 500 Loss 0.4816\n",
            "Epoch 3 Batch 600 Loss 0.3690\n",
            "Epoch 3 Batch 700 Loss 0.4258\n",
            "Epoch 3 Batch 800 Loss 0.4245\n",
            "Epoch 3 Batch 900 Loss 0.4358\n",
            "Epoch 3 Batch 1000 Loss 0.3660\n",
            "Epoch 3 Batch 1100 Loss 0.4325\n",
            "Epoch 3 Batch 1200 Loss 0.4870\n",
            "Epoch 3 Loss 0.4608\n",
            "Time taken for 1 epoch 111.86195755004883 sec\n",
            "\n",
            "Epoch 4 Batch 0 Loss 0.2629\n",
            "Epoch 4 Batch 100 Loss 0.2655\n",
            "Epoch 4 Batch 200 Loss 0.2633\n",
            "Epoch 4 Batch 300 Loss 0.2589\n",
            "Epoch 4 Batch 400 Loss 0.3002\n",
            "Epoch 4 Batch 500 Loss 0.3054\n",
            "Epoch 4 Batch 600 Loss 0.2875\n",
            "Epoch 4 Batch 700 Loss 0.2864\n",
            "Epoch 4 Batch 800 Loss 0.3421\n",
            "Epoch 4 Batch 900 Loss 0.2956\n",
            "Epoch 4 Batch 1000 Loss 0.3163\n",
            "Epoch 4 Batch 1100 Loss 0.3451\n",
            "Epoch 4 Batch 1200 Loss 0.2750\n",
            "Epoch 4 Loss 0.3042\n",
            "Time taken for 1 epoch 113.34110045433044 sec\n",
            "\n",
            "Epoch 5 Batch 0 Loss 0.2241\n",
            "Epoch 5 Batch 100 Loss 0.2208\n",
            "Epoch 5 Batch 200 Loss 0.2272\n",
            "Epoch 5 Batch 300 Loss 0.1777\n",
            "Epoch 5 Batch 400 Loss 0.2125\n",
            "Epoch 5 Batch 500 Loss 0.2351\n",
            "Epoch 5 Batch 600 Loss 0.2358\n",
            "Epoch 5 Batch 700 Loss 0.2688\n",
            "Epoch 5 Batch 800 Loss 0.2471\n",
            "Epoch 5 Batch 900 Loss 0.2155\n",
            "Epoch 5 Batch 1000 Loss 0.2763\n",
            "Epoch 5 Batch 1100 Loss 0.2262\n",
            "Epoch 5 Batch 1200 Loss 0.2639\n",
            "Epoch 5 Loss 0.2303\n",
            "Time taken for 1 epoch 112.25165963172913 sec\n",
            "\n",
            "Epoch 6 Batch 0 Loss 0.1545\n",
            "Epoch 6 Batch 100 Loss 0.1439\n",
            "Epoch 6 Batch 200 Loss 0.1706\n",
            "Epoch 6 Batch 300 Loss 0.1847\n",
            "Epoch 6 Batch 400 Loss 0.1698\n",
            "Epoch 6 Batch 500 Loss 0.1769\n",
            "Epoch 6 Batch 600 Loss 0.1772\n",
            "Epoch 6 Batch 700 Loss 0.1828\n",
            "Epoch 6 Batch 800 Loss 0.2396\n",
            "Epoch 6 Batch 900 Loss 0.2147\n",
            "Epoch 6 Batch 1000 Loss 0.2141\n",
            "Epoch 6 Batch 1100 Loss 0.2166\n",
            "Epoch 6 Batch 1200 Loss 0.2162\n",
            "Epoch 6 Loss 0.1925\n",
            "Time taken for 1 epoch 113.54040765762329 sec\n",
            "\n",
            "Epoch 7 Batch 0 Loss 0.1542\n",
            "Epoch 7 Batch 100 Loss 0.1354\n",
            "Epoch 7 Batch 200 Loss 0.1566\n",
            "Epoch 7 Batch 300 Loss 0.1482\n",
            "Epoch 7 Batch 400 Loss 0.1788\n",
            "Epoch 7 Batch 500 Loss 0.1411\n",
            "Epoch 7 Batch 600 Loss 0.1321\n",
            "Epoch 7 Batch 700 Loss 0.1751\n",
            "Epoch 7 Batch 800 Loss 0.1812\n",
            "Epoch 7 Batch 900 Loss 0.1741\n",
            "Epoch 7 Batch 1000 Loss 0.1824\n",
            "Epoch 7 Batch 1100 Loss 0.1628\n",
            "Epoch 7 Batch 1200 Loss 0.1938\n",
            "Epoch 7 Loss 0.1708\n",
            "Time taken for 1 epoch 112.19928097724915 sec\n",
            "\n",
            "Epoch 8 Batch 0 Loss 0.1412\n",
            "Epoch 8 Batch 100 Loss 0.1351\n",
            "Epoch 8 Batch 200 Loss 0.1509\n",
            "Epoch 8 Batch 300 Loss 0.1195\n",
            "Epoch 8 Batch 400 Loss 0.1773\n",
            "Epoch 8 Batch 500 Loss 0.1731\n",
            "Epoch 8 Batch 600 Loss 0.1764\n",
            "Epoch 8 Batch 700 Loss 0.1806\n",
            "Epoch 8 Batch 800 Loss 0.1371\n",
            "Epoch 8 Batch 900 Loss 0.1656\n",
            "Epoch 8 Batch 1000 Loss 0.1516\n",
            "Epoch 8 Batch 1100 Loss 0.1916\n",
            "Epoch 8 Batch 1200 Loss 0.1659\n",
            "Epoch 8 Loss 0.1586\n",
            "Time taken for 1 epoch 114.07848525047302 sec\n",
            "\n",
            "Epoch 9 Batch 0 Loss 0.1164\n",
            "Epoch 9 Batch 100 Loss 0.1207\n",
            "Epoch 9 Batch 200 Loss 0.1216\n",
            "Epoch 9 Batch 300 Loss 0.1283\n",
            "Epoch 9 Batch 400 Loss 0.1473\n",
            "Epoch 9 Batch 500 Loss 0.1411\n",
            "Epoch 9 Batch 600 Loss 0.1593\n",
            "Epoch 9 Batch 700 Loss 0.1481\n",
            "Epoch 9 Batch 800 Loss 0.1250\n",
            "Epoch 9 Batch 900 Loss 0.1624\n",
            "Epoch 9 Batch 1000 Loss 0.1637\n",
            "Epoch 9 Batch 1100 Loss 0.2203\n",
            "Epoch 9 Batch 1200 Loss 0.1702\n",
            "Epoch 9 Loss 0.1491\n",
            "Time taken for 1 epoch 112.32851672172546 sec\n",
            "\n",
            "Epoch 10 Batch 0 Loss 0.1170\n",
            "Epoch 10 Batch 100 Loss 0.1108\n",
            "Epoch 10 Batch 200 Loss 0.1366\n",
            "Epoch 10 Batch 300 Loss 0.1333\n",
            "Epoch 10 Batch 400 Loss 0.1016\n",
            "Epoch 10 Batch 500 Loss 0.1339\n",
            "Epoch 10 Batch 600 Loss 0.1154\n",
            "Epoch 10 Batch 700 Loss 0.1565\n",
            "Epoch 10 Batch 800 Loss 0.1424\n",
            "Epoch 10 Batch 900 Loss 0.1373\n",
            "Epoch 10 Batch 1000 Loss 0.1721\n",
            "Epoch 10 Batch 1100 Loss 0.1478\n",
            "Epoch 10 Batch 1200 Loss 0.1597\n",
            "Epoch 10 Loss 0.1418\n",
            "Time taken for 1 epoch 113.21497225761414 sec\n",
            "\n",
            "Epoch 11 Batch 0 Loss 0.0926\n",
            "Epoch 11 Batch 100 Loss 0.1059\n",
            "Epoch 11 Batch 200 Loss 0.1456\n",
            "Epoch 11 Batch 300 Loss 0.1233\n",
            "Epoch 11 Batch 400 Loss 0.1091\n",
            "Epoch 11 Batch 500 Loss 0.1496\n",
            "Epoch 11 Batch 600 Loss 0.1257\n",
            "Epoch 11 Batch 700 Loss 0.1299\n",
            "Epoch 11 Batch 800 Loss 0.1766\n",
            "Epoch 11 Batch 900 Loss 0.1359\n",
            "Epoch 11 Batch 1000 Loss 0.1535\n",
            "Epoch 11 Batch 1100 Loss 0.1490\n",
            "Epoch 11 Batch 1200 Loss 0.1809\n",
            "Epoch 11 Loss 0.1364\n",
            "Time taken for 1 epoch 112.19609546661377 sec\n",
            "\n",
            "Epoch 12 Batch 0 Loss 0.0897\n",
            "Epoch 12 Batch 100 Loss 0.1037\n",
            "Epoch 12 Batch 200 Loss 0.1217\n",
            "Epoch 12 Batch 300 Loss 0.1296\n",
            "Epoch 12 Batch 400 Loss 0.1292\n",
            "Epoch 12 Batch 500 Loss 0.1243\n",
            "Epoch 12 Batch 600 Loss 0.1646\n",
            "Epoch 12 Batch 700 Loss 0.1102\n",
            "Epoch 12 Batch 800 Loss 0.1604\n",
            "Epoch 12 Batch 900 Loss 0.1189\n",
            "Epoch 12 Batch 1000 Loss 0.1430\n",
            "Epoch 12 Batch 1100 Loss 0.1503\n",
            "Epoch 12 Batch 1200 Loss 0.1295\n",
            "Epoch 12 Loss 0.1313\n",
            "Time taken for 1 epoch 113.20356440544128 sec\n",
            "\n",
            "Epoch 13 Batch 0 Loss 0.0780\n",
            "Epoch 13 Batch 100 Loss 0.1400\n",
            "Epoch 13 Batch 200 Loss 0.0949\n",
            "Epoch 13 Batch 300 Loss 0.1376\n",
            "Epoch 13 Batch 400 Loss 0.1335\n",
            "Epoch 13 Batch 500 Loss 0.0985\n",
            "Epoch 13 Batch 600 Loss 0.1104\n",
            "Epoch 13 Batch 700 Loss 0.1312\n",
            "Epoch 13 Batch 800 Loss 0.1515\n",
            "Epoch 13 Batch 900 Loss 0.1750\n",
            "Epoch 13 Batch 1000 Loss 0.1677\n",
            "Epoch 13 Batch 1100 Loss 0.1407\n",
            "Epoch 13 Batch 1200 Loss 0.1925\n",
            "Epoch 13 Loss 0.1274\n",
            "Time taken for 1 epoch 112.17396569252014 sec\n",
            "\n",
            "Epoch 14 Batch 0 Loss 0.0705\n",
            "Epoch 14 Batch 100 Loss 0.0913\n",
            "Epoch 14 Batch 200 Loss 0.0964\n",
            "Epoch 14 Batch 300 Loss 0.1054\n",
            "Epoch 14 Batch 400 Loss 0.1154\n",
            "Epoch 14 Batch 500 Loss 0.1612\n",
            "Epoch 14 Batch 600 Loss 0.1031\n",
            "Epoch 14 Batch 700 Loss 0.1182\n",
            "Epoch 14 Batch 800 Loss 0.1271\n",
            "Epoch 14 Batch 900 Loss 0.1648\n",
            "Epoch 14 Batch 1000 Loss 0.1588\n",
            "Epoch 14 Batch 1100 Loss 0.1604\n",
            "Epoch 14 Batch 1200 Loss 0.1607\n",
            "Epoch 14 Loss 0.1239\n",
            "Time taken for 1 epoch 113.35546231269836 sec\n",
            "\n",
            "Epoch 15 Batch 0 Loss 0.1179\n",
            "Epoch 15 Batch 100 Loss 0.1207\n",
            "Epoch 15 Batch 200 Loss 0.1070\n",
            "Epoch 15 Batch 300 Loss 0.0983\n",
            "Epoch 15 Batch 400 Loss 0.0925\n",
            "Epoch 15 Batch 500 Loss 0.1152\n",
            "Epoch 15 Batch 600 Loss 0.0933\n",
            "Epoch 15 Batch 700 Loss 0.1195\n",
            "Epoch 15 Batch 800 Loss 0.1183\n",
            "Epoch 15 Batch 900 Loss 0.1183\n",
            "Epoch 15 Batch 1000 Loss 0.1780\n",
            "Epoch 15 Batch 1100 Loss 0.1361\n",
            "Epoch 15 Batch 1200 Loss 0.1312\n",
            "Epoch 15 Loss 0.1208\n",
            "Time taken for 1 epoch 112.19322180747986 sec\n",
            "\n",
            "Epoch 16 Batch 0 Loss 0.0631\n",
            "Epoch 16 Batch 100 Loss 0.0696\n",
            "Epoch 16 Batch 200 Loss 0.1306\n",
            "Epoch 16 Batch 300 Loss 0.1192\n",
            "Epoch 16 Batch 400 Loss 0.1276\n",
            "Epoch 16 Batch 500 Loss 0.0903\n",
            "Epoch 16 Batch 600 Loss 0.1175\n",
            "Epoch 16 Batch 700 Loss 0.0992\n",
            "Epoch 16 Batch 800 Loss 0.1066\n",
            "Epoch 16 Batch 900 Loss 0.1189\n",
            "Epoch 16 Batch 1000 Loss 0.1012\n",
            "Epoch 16 Batch 1100 Loss 0.1116\n",
            "Epoch 16 Batch 1200 Loss 0.1059\n",
            "Epoch 16 Loss 0.1174\n",
            "Time taken for 1 epoch 113.28099513053894 sec\n",
            "\n",
            "Epoch 17 Batch 0 Loss 0.0896\n",
            "Epoch 17 Batch 100 Loss 0.0849\n",
            "Epoch 17 Batch 200 Loss 0.0885\n",
            "Epoch 17 Batch 300 Loss 0.0992\n",
            "Epoch 17 Batch 400 Loss 0.0874\n",
            "Epoch 17 Batch 500 Loss 0.1208\n",
            "Epoch 17 Batch 600 Loss 0.1122\n",
            "Epoch 17 Batch 700 Loss 0.0953\n",
            "Epoch 17 Batch 800 Loss 0.1020\n",
            "Epoch 17 Batch 900 Loss 0.1106\n",
            "Epoch 17 Batch 1000 Loss 0.1157\n",
            "Epoch 17 Batch 1100 Loss 0.1174\n",
            "Epoch 17 Batch 1200 Loss 0.1221\n",
            "Epoch 17 Loss 0.1149\n",
            "Time taken for 1 epoch 112.28202486038208 sec\n",
            "\n",
            "Epoch 18 Batch 0 Loss 0.0802\n",
            "Epoch 18 Batch 100 Loss 0.0864\n",
            "Epoch 18 Batch 200 Loss 0.0922\n",
            "Epoch 18 Batch 300 Loss 0.0904\n",
            "Epoch 18 Batch 400 Loss 0.0912\n",
            "Epoch 18 Batch 500 Loss 0.1026\n",
            "Epoch 18 Batch 600 Loss 0.1084\n",
            "Epoch 18 Batch 700 Loss 0.1206\n",
            "Epoch 18 Batch 800 Loss 0.1150\n",
            "Epoch 18 Batch 900 Loss 0.1211\n",
            "Epoch 18 Batch 1000 Loss 0.1377\n",
            "Epoch 18 Batch 1100 Loss 0.1256\n",
            "Epoch 18 Batch 1200 Loss 0.1021\n",
            "Epoch 18 Loss 0.1128\n",
            "Time taken for 1 epoch 113.30015254020691 sec\n",
            "\n",
            "Epoch 19 Batch 0 Loss 0.0887\n",
            "Epoch 19 Batch 100 Loss 0.0994\n",
            "Epoch 19 Batch 200 Loss 0.0945\n",
            "Epoch 19 Batch 300 Loss 0.0991\n",
            "Epoch 19 Batch 400 Loss 0.0900\n",
            "Epoch 19 Batch 500 Loss 0.1281\n",
            "Epoch 19 Batch 600 Loss 0.0912\n",
            "Epoch 19 Batch 700 Loss 0.0845\n",
            "Epoch 19 Batch 800 Loss 0.1277\n",
            "Epoch 19 Batch 900 Loss 0.1110\n",
            "Epoch 19 Batch 1000 Loss 0.1148\n",
            "Epoch 19 Batch 1100 Loss 0.1041\n",
            "Epoch 19 Batch 1200 Loss 0.1146\n",
            "Epoch 19 Loss 0.1109\n",
            "Time taken for 1 epoch 112.22637033462524 sec\n",
            "\n",
            "Epoch 20 Batch 0 Loss 0.0772\n",
            "Epoch 20 Batch 100 Loss 0.0923\n",
            "Epoch 20 Batch 200 Loss 0.0852\n",
            "Epoch 20 Batch 300 Loss 0.0805\n",
            "Epoch 20 Batch 400 Loss 0.1111\n",
            "Epoch 20 Batch 500 Loss 0.1139\n",
            "Epoch 20 Batch 600 Loss 0.0912\n",
            "Epoch 20 Batch 700 Loss 0.1066\n",
            "Epoch 20 Batch 800 Loss 0.1365\n",
            "Epoch 20 Batch 900 Loss 0.1238\n",
            "Epoch 20 Batch 1000 Loss 0.1327\n",
            "Epoch 20 Batch 1100 Loss 0.1018\n",
            "Epoch 20 Batch 1200 Loss 0.1275\n",
            "Epoch 20 Loss 0.1090\n",
            "Time taken for 1 epoch 113.19023966789246 sec\n",
            "\n",
            "Epoch 21 Batch 0 Loss 0.0804\n",
            "Epoch 21 Batch 100 Loss 0.1087\n",
            "Epoch 21 Batch 200 Loss 0.1159\n",
            "Epoch 21 Batch 300 Loss 0.0981\n",
            "Epoch 21 Batch 400 Loss 0.1232\n",
            "Epoch 21 Batch 500 Loss 0.0946\n",
            "Epoch 21 Batch 600 Loss 0.1068\n",
            "Epoch 21 Batch 700 Loss 0.1173\n",
            "Epoch 21 Batch 800 Loss 0.1153\n",
            "Epoch 21 Batch 900 Loss 0.1390\n",
            "Epoch 21 Batch 1000 Loss 0.1242\n",
            "Epoch 21 Batch 1100 Loss 0.1382\n",
            "Epoch 21 Batch 1200 Loss 0.1097\n",
            "Epoch 21 Loss 0.1069\n",
            "Time taken for 1 epoch 112.29377675056458 sec\n",
            "\n",
            "Epoch 22 Batch 0 Loss 0.0950\n",
            "Epoch 22 Batch 100 Loss 0.0725\n",
            "Epoch 22 Batch 200 Loss 0.1022\n",
            "Epoch 22 Batch 300 Loss 0.0859\n",
            "Epoch 22 Batch 400 Loss 0.1134\n",
            "Epoch 22 Batch 500 Loss 0.1197\n",
            "Epoch 22 Batch 600 Loss 0.1140\n",
            "Epoch 22 Batch 700 Loss 0.0996\n",
            "Epoch 22 Batch 800 Loss 0.0908\n",
            "Epoch 22 Batch 900 Loss 0.1372\n",
            "Epoch 22 Batch 1000 Loss 0.1346\n",
            "Epoch 22 Batch 1100 Loss 0.1150\n",
            "Epoch 22 Batch 1200 Loss 0.1017\n",
            "Epoch 22 Loss 0.1051\n",
            "Time taken for 1 epoch 113.34683346748352 sec\n",
            "\n",
            "Epoch 23 Batch 0 Loss 0.1096\n",
            "Epoch 23 Batch 100 Loss 0.1058\n",
            "Epoch 23 Batch 200 Loss 0.0854\n",
            "Epoch 23 Batch 300 Loss 0.1044\n",
            "Epoch 23 Batch 400 Loss 0.1138\n",
            "Epoch 23 Batch 500 Loss 0.1007\n",
            "Epoch 23 Batch 600 Loss 0.1180\n",
            "Epoch 23 Batch 700 Loss 0.0991\n",
            "Epoch 23 Batch 800 Loss 0.0951\n",
            "Epoch 23 Batch 900 Loss 0.1251\n",
            "Epoch 23 Batch 1000 Loss 0.0946\n",
            "Epoch 23 Batch 1100 Loss 0.1247\n",
            "Epoch 23 Batch 1200 Loss 0.1356\n",
            "Epoch 23 Loss 0.1041\n",
            "Time taken for 1 epoch 112.28895854949951 sec\n",
            "\n",
            "Epoch 24 Batch 0 Loss 0.0837\n",
            "Epoch 24 Batch 100 Loss 0.0695\n",
            "Epoch 24 Batch 200 Loss 0.0879\n",
            "Epoch 24 Batch 300 Loss 0.0978\n",
            "Epoch 24 Batch 400 Loss 0.0868\n",
            "Epoch 24 Batch 500 Loss 0.1150\n",
            "Epoch 24 Batch 600 Loss 0.1163\n",
            "Epoch 24 Batch 700 Loss 0.1048\n",
            "Epoch 24 Batch 800 Loss 0.0943\n",
            "Epoch 24 Batch 900 Loss 0.1509\n",
            "Epoch 24 Batch 1000 Loss 0.1196\n",
            "Epoch 24 Batch 1100 Loss 0.1220\n",
            "Epoch 24 Batch 1200 Loss 0.0934\n",
            "Epoch 24 Loss 0.1023\n",
            "Time taken for 1 epoch 113.1796510219574 sec\n",
            "\n",
            "Epoch 25 Batch 0 Loss 0.0645\n",
            "Epoch 25 Batch 100 Loss 0.0924\n",
            "Epoch 25 Batch 200 Loss 0.0747\n",
            "Epoch 25 Batch 300 Loss 0.1223\n",
            "Epoch 25 Batch 400 Loss 0.1063\n",
            "Epoch 25 Batch 500 Loss 0.0982\n",
            "Epoch 25 Batch 600 Loss 0.0957\n",
            "Epoch 25 Batch 700 Loss 0.0847\n",
            "Epoch 25 Batch 800 Loss 0.0981\n",
            "Epoch 25 Batch 900 Loss 0.1251\n",
            "Epoch 25 Batch 1000 Loss 0.1091\n",
            "Epoch 25 Batch 1100 Loss 0.1271\n",
            "Epoch 25 Batch 1200 Loss 0.0938\n",
            "Epoch 25 Loss 0.1011\n",
            "Time taken for 1 epoch 112.14666080474854 sec\n",
            "\n",
            "Epoch 26 Batch 0 Loss 0.0915\n",
            "Epoch 26 Batch 100 Loss 0.0720\n",
            "Epoch 26 Batch 200 Loss 0.0733\n",
            "Epoch 26 Batch 300 Loss 0.0785\n",
            "Epoch 26 Batch 400 Loss 0.1001\n",
            "Epoch 26 Batch 500 Loss 0.0769\n",
            "Epoch 26 Batch 600 Loss 0.0730\n",
            "Epoch 26 Batch 700 Loss 0.1095\n",
            "Epoch 26 Batch 800 Loss 0.1282\n",
            "Epoch 26 Batch 900 Loss 0.1146\n",
            "Epoch 26 Batch 1000 Loss 0.1112\n",
            "Epoch 26 Batch 1100 Loss 0.0884\n",
            "Epoch 26 Batch 1200 Loss 0.1089\n",
            "Epoch 26 Loss 0.0996\n",
            "Time taken for 1 epoch 113.64861559867859 sec\n",
            "\n",
            "Epoch 27 Batch 0 Loss 0.0797\n",
            "Epoch 27 Batch 100 Loss 0.1096\n",
            "Epoch 27 Batch 200 Loss 0.0946\n",
            "Epoch 27 Batch 300 Loss 0.0757\n",
            "Epoch 27 Batch 400 Loss 0.1208\n",
            "Epoch 27 Batch 500 Loss 0.0927\n",
            "Epoch 27 Batch 600 Loss 0.0956\n",
            "Epoch 27 Batch 700 Loss 0.1028\n",
            "Epoch 27 Batch 800 Loss 0.0927\n",
            "Epoch 27 Batch 900 Loss 0.0900\n",
            "Epoch 27 Batch 1000 Loss 0.1157\n",
            "Epoch 27 Batch 1100 Loss 0.1008\n",
            "Epoch 27 Batch 1200 Loss 0.1004\n",
            "Epoch 27 Loss 0.0983\n",
            "Time taken for 1 epoch 112.36253786087036 sec\n",
            "\n",
            "Epoch 28 Batch 0 Loss 0.0824\n",
            "Epoch 28 Batch 100 Loss 0.0697\n",
            "Epoch 28 Batch 200 Loss 0.1011\n",
            "Epoch 28 Batch 300 Loss 0.1101\n",
            "Epoch 28 Batch 400 Loss 0.0783\n",
            "Epoch 28 Batch 500 Loss 0.1058\n",
            "Epoch 28 Batch 600 Loss 0.0967\n",
            "Epoch 28 Batch 700 Loss 0.1140\n",
            "Epoch 28 Batch 800 Loss 0.0749\n",
            "Epoch 28 Batch 900 Loss 0.1090\n",
            "Epoch 28 Batch 1000 Loss 0.1095\n",
            "Epoch 28 Batch 1100 Loss 0.1537\n",
            "Epoch 28 Batch 1200 Loss 0.0954\n",
            "Epoch 28 Loss 0.0971\n",
            "Time taken for 1 epoch 113.79896664619446 sec\n",
            "\n",
            "Epoch 29 Batch 0 Loss 0.0581\n",
            "Epoch 29 Batch 100 Loss 0.0528\n",
            "Epoch 29 Batch 200 Loss 0.0928\n",
            "Epoch 29 Batch 300 Loss 0.0900\n",
            "Epoch 29 Batch 400 Loss 0.0730\n",
            "Epoch 29 Batch 500 Loss 0.1112\n",
            "Epoch 29 Batch 600 Loss 0.0932\n",
            "Epoch 29 Batch 700 Loss 0.0879\n",
            "Epoch 29 Batch 800 Loss 0.1123\n",
            "Epoch 29 Batch 900 Loss 0.0914\n",
            "Epoch 29 Batch 1000 Loss 0.0956\n",
            "Epoch 29 Batch 1100 Loss 0.0910\n",
            "Epoch 29 Batch 1200 Loss 0.1277\n",
            "Epoch 29 Loss 0.0961\n",
            "Time taken for 1 epoch 112.64621043205261 sec\n",
            "\n",
            "Epoch 30 Batch 0 Loss 0.0905\n",
            "Epoch 30 Batch 100 Loss 0.0992\n",
            "Epoch 30 Batch 200 Loss 0.0802\n",
            "Epoch 30 Batch 300 Loss 0.0927\n",
            "Epoch 30 Batch 400 Loss 0.0861\n",
            "Epoch 30 Batch 500 Loss 0.0637\n",
            "Epoch 30 Batch 600 Loss 0.1080\n",
            "Epoch 30 Batch 700 Loss 0.1121\n",
            "Epoch 30 Batch 800 Loss 0.0763\n",
            "Epoch 30 Batch 900 Loss 0.0789\n",
            "Epoch 30 Batch 1000 Loss 0.1276\n",
            "Epoch 30 Batch 1100 Loss 0.0935\n",
            "Epoch 30 Batch 1200 Loss 0.1323\n",
            "Epoch 30 Loss 0.0949\n",
            "Time taken for 1 epoch 114.37759804725647 sec\n",
            "\n",
            "Epoch 31 Batch 0 Loss 0.0926\n",
            "Epoch 31 Batch 100 Loss 0.0762\n",
            "Epoch 31 Batch 200 Loss 0.0758\n",
            "Epoch 31 Batch 300 Loss 0.0995\n",
            "Epoch 31 Batch 400 Loss 0.0800\n",
            "Epoch 31 Batch 500 Loss 0.1012\n",
            "Epoch 31 Batch 600 Loss 0.0662\n",
            "Epoch 31 Batch 700 Loss 0.1038\n",
            "Epoch 31 Batch 800 Loss 0.0817\n",
            "Epoch 31 Batch 900 Loss 0.0886\n",
            "Epoch 31 Batch 1000 Loss 0.0954\n",
            "Epoch 31 Batch 1100 Loss 0.1208\n",
            "Epoch 31 Batch 1200 Loss 0.0906\n",
            "Epoch 31 Loss 0.0939\n",
            "Time taken for 1 epoch 112.27289724349976 sec\n",
            "\n",
            "Epoch 32 Batch 0 Loss 0.0712\n",
            "Epoch 32 Batch 100 Loss 0.0717\n",
            "Epoch 32 Batch 200 Loss 0.0464\n",
            "Epoch 32 Batch 300 Loss 0.0846\n",
            "Epoch 32 Batch 400 Loss 0.0837\n",
            "Epoch 32 Batch 500 Loss 0.1186\n",
            "Epoch 32 Batch 600 Loss 0.0923\n",
            "Epoch 32 Batch 700 Loss 0.0898\n",
            "Epoch 32 Batch 800 Loss 0.0908\n",
            "Epoch 32 Batch 900 Loss 0.1422\n",
            "Epoch 32 Batch 1000 Loss 0.1066\n",
            "Epoch 32 Batch 1100 Loss 0.0941\n",
            "Epoch 32 Batch 1200 Loss 0.0997\n",
            "Epoch 32 Loss 0.0932\n",
            "Time taken for 1 epoch 113.74550724029541 sec\n",
            "\n",
            "Epoch 33 Batch 0 Loss 0.0835\n",
            "Epoch 33 Batch 100 Loss 0.0589\n",
            "Epoch 33 Batch 200 Loss 0.0896\n",
            "Epoch 33 Batch 300 Loss 0.1071\n",
            "Epoch 33 Batch 400 Loss 0.0675\n",
            "Epoch 33 Batch 500 Loss 0.0948\n",
            "Epoch 33 Batch 600 Loss 0.0941\n",
            "Epoch 33 Batch 700 Loss 0.1014\n",
            "Epoch 33 Batch 800 Loss 0.0843\n",
            "Epoch 33 Batch 900 Loss 0.1067\n",
            "Epoch 33 Batch 1000 Loss 0.0935\n",
            "Epoch 33 Batch 1100 Loss 0.0867\n",
            "Epoch 33 Batch 1200 Loss 0.1061\n",
            "Epoch 33 Loss 0.0921\n",
            "Time taken for 1 epoch 112.2543613910675 sec\n",
            "\n",
            "Epoch 34 Batch 0 Loss 0.0885\n",
            "Epoch 34 Batch 100 Loss 0.0913\n",
            "Epoch 34 Batch 200 Loss 0.1037\n",
            "Epoch 34 Batch 300 Loss 0.0837\n",
            "Epoch 34 Batch 400 Loss 0.0936\n",
            "Epoch 34 Batch 500 Loss 0.1072\n",
            "Epoch 34 Batch 600 Loss 0.0820\n",
            "Epoch 34 Batch 700 Loss 0.1014\n",
            "Epoch 34 Batch 800 Loss 0.0976\n",
            "Epoch 34 Batch 900 Loss 0.0847\n",
            "Epoch 34 Batch 1000 Loss 0.1214\n",
            "Epoch 34 Batch 1100 Loss 0.1410\n",
            "Epoch 34 Batch 1200 Loss 0.1143\n",
            "Epoch 34 Loss 0.0912\n",
            "Time taken for 1 epoch 113.56441569328308 sec\n",
            "\n",
            "Epoch 35 Batch 0 Loss 0.0723\n",
            "Epoch 35 Batch 100 Loss 0.0844\n",
            "Epoch 35 Batch 200 Loss 0.0761\n",
            "Epoch 35 Batch 300 Loss 0.0833\n",
            "Epoch 35 Batch 400 Loss 0.0835\n",
            "Epoch 35 Batch 500 Loss 0.0993\n",
            "Epoch 35 Batch 600 Loss 0.0788\n",
            "Epoch 35 Batch 700 Loss 0.0977\n",
            "Epoch 35 Batch 800 Loss 0.0859\n",
            "Epoch 35 Batch 900 Loss 0.0890\n",
            "Epoch 35 Batch 1000 Loss 0.1054\n",
            "Epoch 35 Batch 1100 Loss 0.0912\n",
            "Epoch 35 Batch 1200 Loss 0.1248\n",
            "Epoch 35 Loss 0.0905\n",
            "Time taken for 1 epoch 112.19035863876343 sec\n",
            "\n",
            "Epoch 36 Batch 0 Loss 0.0588\n",
            "Epoch 36 Batch 100 Loss 0.0758\n",
            "Epoch 36 Batch 200 Loss 0.0647\n",
            "Epoch 36 Batch 300 Loss 0.1083\n",
            "Epoch 36 Batch 400 Loss 0.0889\n",
            "Epoch 36 Batch 500 Loss 0.0733\n",
            "Epoch 36 Batch 600 Loss 0.0990\n",
            "Epoch 36 Batch 700 Loss 0.0865\n",
            "Epoch 36 Batch 800 Loss 0.1143\n",
            "Epoch 36 Batch 900 Loss 0.0946\n",
            "Epoch 36 Batch 1000 Loss 0.0855\n",
            "Epoch 36 Batch 1100 Loss 0.0992\n",
            "Epoch 36 Batch 1200 Loss 0.1168\n",
            "Epoch 36 Loss 0.0894\n",
            "Time taken for 1 epoch 113.52529120445251 sec\n",
            "\n",
            "Epoch 37 Batch 0 Loss 0.0577\n",
            "Epoch 37 Batch 100 Loss 0.0692\n",
            "Epoch 37 Batch 200 Loss 0.0878\n",
            "Epoch 37 Batch 300 Loss 0.1022\n",
            "Epoch 37 Batch 400 Loss 0.0901\n",
            "Epoch 37 Batch 500 Loss 0.0945\n",
            "Epoch 37 Batch 600 Loss 0.1093\n",
            "Epoch 37 Batch 700 Loss 0.0935\n",
            "Epoch 37 Batch 800 Loss 0.1083\n",
            "Epoch 37 Batch 900 Loss 0.0746\n",
            "Epoch 37 Batch 1000 Loss 0.1134\n",
            "Epoch 37 Batch 1100 Loss 0.1142\n",
            "Epoch 37 Batch 1200 Loss 0.1126\n",
            "Epoch 37 Loss 0.0888\n",
            "Time taken for 1 epoch 112.3686580657959 sec\n",
            "\n",
            "Epoch 38 Batch 0 Loss 0.0648\n",
            "Epoch 38 Batch 100 Loss 0.0744\n",
            "Epoch 38 Batch 200 Loss 0.0815\n",
            "Epoch 38 Batch 300 Loss 0.0751\n",
            "Epoch 38 Batch 400 Loss 0.0723\n",
            "Epoch 38 Batch 500 Loss 0.0882\n",
            "Epoch 38 Batch 600 Loss 0.1022\n",
            "Epoch 38 Batch 700 Loss 0.0905\n",
            "Epoch 38 Batch 800 Loss 0.0790\n",
            "Epoch 38 Batch 900 Loss 0.0954\n",
            "Epoch 38 Batch 1000 Loss 0.1014\n",
            "Epoch 38 Batch 1100 Loss 0.1011\n",
            "Epoch 38 Batch 1200 Loss 0.1072\n",
            "Epoch 38 Loss 0.0884\n",
            "Time taken for 1 epoch 113.39405560493469 sec\n",
            "\n",
            "Epoch 39 Batch 0 Loss 0.0720\n",
            "Epoch 39 Batch 100 Loss 0.0694\n",
            "Epoch 39 Batch 200 Loss 0.0533\n",
            "Epoch 39 Batch 300 Loss 0.0928\n",
            "Epoch 39 Batch 400 Loss 0.0845\n",
            "Epoch 39 Batch 500 Loss 0.0856\n",
            "Epoch 39 Batch 600 Loss 0.0681\n",
            "Epoch 39 Batch 700 Loss 0.0639\n",
            "Epoch 39 Batch 800 Loss 0.0837\n",
            "Epoch 39 Batch 900 Loss 0.0835\n",
            "Epoch 39 Batch 1000 Loss 0.0968\n",
            "Epoch 39 Batch 1100 Loss 0.1245\n",
            "Epoch 39 Batch 1200 Loss 0.1258\n",
            "Epoch 39 Loss 0.0876\n",
            "Time taken for 1 epoch 112.11664772033691 sec\n",
            "\n",
            "Epoch 40 Batch 0 Loss 0.0920\n",
            "Epoch 40 Batch 100 Loss 0.0770\n",
            "Epoch 40 Batch 200 Loss 0.0706\n",
            "Epoch 40 Batch 300 Loss 0.0715\n",
            "Epoch 40 Batch 400 Loss 0.0647\n",
            "Epoch 40 Batch 500 Loss 0.0799\n",
            "Epoch 40 Batch 600 Loss 0.0788\n",
            "Epoch 40 Batch 700 Loss 0.0821\n",
            "Epoch 40 Batch 800 Loss 0.0867\n",
            "Epoch 40 Batch 900 Loss 0.0959\n",
            "Epoch 40 Batch 1000 Loss 0.1092\n",
            "Epoch 40 Batch 1100 Loss 0.0984\n",
            "Epoch 40 Batch 1200 Loss 0.0909\n",
            "Epoch 40 Loss 0.0869\n",
            "Time taken for 1 epoch 113.55494618415833 sec\n",
            "\n",
            "Epoch 41 Batch 0 Loss 0.0567\n",
            "Epoch 41 Batch 100 Loss 0.0790\n",
            "Epoch 41 Batch 200 Loss 0.0988\n",
            "Epoch 41 Batch 300 Loss 0.0761\n",
            "Epoch 41 Batch 400 Loss 0.0719\n",
            "Epoch 41 Batch 500 Loss 0.0616\n",
            "Epoch 41 Batch 600 Loss 0.0743\n",
            "Epoch 41 Batch 700 Loss 0.0782\n",
            "Epoch 41 Batch 800 Loss 0.0839\n",
            "Epoch 41 Batch 900 Loss 0.0909\n",
            "Epoch 41 Batch 1000 Loss 0.0909\n",
            "Epoch 41 Batch 1100 Loss 0.1181\n",
            "Epoch 41 Batch 1200 Loss 0.1106\n",
            "Epoch 41 Loss 0.0860\n",
            "Time taken for 1 epoch 112.21740126609802 sec\n",
            "\n",
            "Epoch 42 Batch 0 Loss 0.0901\n",
            "Epoch 42 Batch 100 Loss 0.0898\n",
            "Epoch 42 Batch 200 Loss 0.0666\n",
            "Epoch 42 Batch 300 Loss 0.0710\n",
            "Epoch 42 Batch 400 Loss 0.0733\n",
            "Epoch 42 Batch 500 Loss 0.0936\n",
            "Epoch 42 Batch 600 Loss 0.1162\n",
            "Epoch 42 Batch 700 Loss 0.0835\n",
            "Epoch 42 Batch 800 Loss 0.1064\n",
            "Epoch 42 Batch 900 Loss 0.1059\n",
            "Epoch 42 Batch 1000 Loss 0.0946\n",
            "Epoch 42 Batch 1100 Loss 0.1108\n",
            "Epoch 42 Batch 1200 Loss 0.0969\n",
            "Epoch 42 Loss 0.0855\n",
            "Time taken for 1 epoch 113.57208847999573 sec\n",
            "\n",
            "Epoch 43 Batch 0 Loss 0.0734\n",
            "Epoch 43 Batch 100 Loss 0.0633\n",
            "Epoch 43 Batch 200 Loss 0.0557\n",
            "Epoch 43 Batch 300 Loss 0.0549\n",
            "Epoch 43 Batch 400 Loss 0.0666\n",
            "Epoch 43 Batch 500 Loss 0.0855\n",
            "Epoch 43 Batch 600 Loss 0.0828\n",
            "Epoch 43 Batch 700 Loss 0.0819\n",
            "Epoch 43 Batch 800 Loss 0.0941\n",
            "Epoch 43 Batch 900 Loss 0.0974\n",
            "Epoch 43 Batch 1000 Loss 0.0968\n",
            "Epoch 43 Batch 1100 Loss 0.0950\n",
            "Epoch 43 Batch 1200 Loss 0.0883\n",
            "Epoch 43 Loss 0.0850\n",
            "Time taken for 1 epoch 112.37462854385376 sec\n",
            "\n",
            "Epoch 44 Batch 0 Loss 0.0470\n",
            "Epoch 44 Batch 100 Loss 0.0666\n",
            "Epoch 44 Batch 200 Loss 0.0754\n",
            "Epoch 44 Batch 300 Loss 0.0533\n",
            "Epoch 44 Batch 400 Loss 0.0790\n",
            "Epoch 44 Batch 500 Loss 0.0856\n",
            "Epoch 44 Batch 600 Loss 0.0731\n",
            "Epoch 44 Batch 700 Loss 0.0662\n",
            "Epoch 44 Batch 800 Loss 0.0838\n",
            "Epoch 44 Batch 900 Loss 0.1074\n",
            "Epoch 44 Batch 1000 Loss 0.0690\n",
            "Epoch 44 Batch 1100 Loss 0.0883\n",
            "Epoch 44 Batch 1200 Loss 0.0909\n",
            "Epoch 44 Loss 0.0844\n",
            "Time taken for 1 epoch 113.7100419998169 sec\n",
            "\n",
            "Epoch 45 Batch 0 Loss 0.0565\n",
            "Epoch 45 Batch 100 Loss 0.0599\n",
            "Epoch 45 Batch 200 Loss 0.0763\n",
            "Epoch 45 Batch 300 Loss 0.0703\n",
            "Epoch 45 Batch 400 Loss 0.0806\n",
            "Epoch 45 Batch 500 Loss 0.0992\n",
            "Epoch 45 Batch 600 Loss 0.0846\n",
            "Epoch 45 Batch 700 Loss 0.0849\n",
            "Epoch 45 Batch 800 Loss 0.0912\n",
            "Epoch 45 Batch 900 Loss 0.0877\n",
            "Epoch 45 Batch 1000 Loss 0.0691\n",
            "Epoch 45 Batch 1100 Loss 0.0842\n",
            "Epoch 45 Batch 1200 Loss 0.1080\n",
            "Epoch 45 Loss 0.0838\n",
            "Time taken for 1 epoch 112.30679607391357 sec\n",
            "\n",
            "Epoch 46 Batch 0 Loss 0.0613\n",
            "Epoch 46 Batch 100 Loss 0.0580\n",
            "Epoch 46 Batch 200 Loss 0.0726\n",
            "Epoch 46 Batch 300 Loss 0.0729\n",
            "Epoch 46 Batch 400 Loss 0.0710\n",
            "Epoch 46 Batch 500 Loss 0.0787\n",
            "Epoch 46 Batch 600 Loss 0.0858\n",
            "Epoch 46 Batch 700 Loss 0.0909\n",
            "Epoch 46 Batch 800 Loss 0.1009\n",
            "Epoch 46 Batch 900 Loss 0.0925\n",
            "Epoch 46 Batch 1000 Loss 0.1127\n",
            "Epoch 46 Batch 1100 Loss 0.0987\n",
            "Epoch 46 Batch 1200 Loss 0.0810\n",
            "Epoch 46 Loss 0.0834\n",
            "Time taken for 1 epoch 113.89134120941162 sec\n",
            "\n",
            "Epoch 47 Batch 0 Loss 0.0394\n",
            "Epoch 47 Batch 100 Loss 0.0772\n",
            "Epoch 47 Batch 200 Loss 0.0990\n",
            "Epoch 47 Batch 300 Loss 0.0590\n",
            "Epoch 47 Batch 400 Loss 0.0809\n",
            "Epoch 47 Batch 500 Loss 0.0831\n",
            "Epoch 47 Batch 600 Loss 0.0729\n",
            "Epoch 47 Batch 700 Loss 0.0588\n",
            "Epoch 47 Batch 800 Loss 0.0759\n",
            "Epoch 47 Batch 900 Loss 0.0947\n",
            "Epoch 47 Batch 1000 Loss 0.0741\n",
            "Epoch 47 Batch 1100 Loss 0.1135\n",
            "Epoch 47 Batch 1200 Loss 0.0980\n",
            "Epoch 47 Loss 0.0833\n",
            "Time taken for 1 epoch 112.24428248405457 sec\n",
            "\n",
            "Epoch 48 Batch 0 Loss 0.0620\n",
            "Epoch 48 Batch 100 Loss 0.0669\n",
            "Epoch 48 Batch 200 Loss 0.0884\n",
            "Epoch 48 Batch 300 Loss 0.0628\n",
            "Epoch 48 Batch 400 Loss 0.0876\n",
            "Epoch 48 Batch 500 Loss 0.0812\n",
            "Epoch 48 Batch 600 Loss 0.0712\n",
            "Epoch 48 Batch 700 Loss 0.0828\n",
            "Epoch 48 Batch 800 Loss 0.0897\n",
            "Epoch 48 Batch 900 Loss 0.0726\n",
            "Epoch 48 Batch 1000 Loss 0.0904\n",
            "Epoch 48 Batch 1100 Loss 0.0926\n",
            "Epoch 48 Batch 1200 Loss 0.1164\n",
            "Epoch 48 Loss 0.0825\n",
            "Time taken for 1 epoch 113.4693968296051 sec\n",
            "\n",
            "Epoch 49 Batch 0 Loss 0.0643\n",
            "Epoch 49 Batch 100 Loss 0.0650\n",
            "Epoch 49 Batch 200 Loss 0.0774\n",
            "Epoch 49 Batch 300 Loss 0.0581\n",
            "Epoch 49 Batch 400 Loss 0.0857\n",
            "Epoch 49 Batch 500 Loss 0.0752\n",
            "Epoch 49 Batch 600 Loss 0.1055\n",
            "Epoch 49 Batch 700 Loss 0.0679\n",
            "Epoch 49 Batch 800 Loss 0.1026\n",
            "Epoch 49 Batch 900 Loss 0.0945\n",
            "Epoch 49 Batch 1000 Loss 0.0913\n",
            "Epoch 49 Batch 1100 Loss 0.1038\n",
            "Epoch 49 Batch 1200 Loss 0.1045\n",
            "Epoch 49 Loss 0.0821\n",
            "Time taken for 1 epoch 112.2267804145813 sec\n",
            "\n",
            "Epoch 50 Batch 0 Loss 0.0623\n",
            "Epoch 50 Batch 100 Loss 0.0586\n",
            "Epoch 50 Batch 200 Loss 0.0722\n",
            "Epoch 50 Batch 300 Loss 0.0889\n",
            "Epoch 50 Batch 400 Loss 0.0909\n",
            "Epoch 50 Batch 500 Loss 0.0975\n",
            "Epoch 50 Batch 600 Loss 0.0702\n",
            "Epoch 50 Batch 700 Loss 0.0881\n",
            "Epoch 50 Batch 800 Loss 0.0949\n",
            "Epoch 50 Batch 900 Loss 0.1192\n",
            "Epoch 50 Batch 1000 Loss 0.0785\n",
            "Epoch 50 Batch 1100 Loss 0.0977\n",
            "Epoch 50 Batch 1200 Loss 0.0978\n",
            "Epoch 50 Loss 0.0818\n",
            "Time taken for 1 epoch 113.71951079368591 sec\n",
            "\n"
          ]
        }
      ],
      "source": [
        "EPOCHS = 50\n",
        "\n",
        "for epoch in range(EPOCHS):\n",
        "  start = time.time()\n",
        "\n",
        "  enc_hidden = encoder.initialize_hidden_state()\n",
        "  total_loss = 0\n",
        "\n",
        "  for (batch, (inp, targ)) in enumerate(dataset.take(steps_per_epoch)):\n",
        "    batch_loss = train_step(inp, targ, enc_hidden)\n",
        "    total_loss += batch_loss\n",
        "\n",
        "    if batch % 100 == 0:\n",
        "      print('Epoch {} Batch {} Loss {:.4f}'.format(epoch + 1,\n",
        "                                                   batch,\n",
        "                                                   batch_loss.numpy()))\n",
        "  # saving (checkpoint) the model every 2 epochs\n",
        "  if (epoch + 1) % 2 == 0:\n",
        "    checkpoint.save(file_prefix = checkpoint_prefix)\n",
        "\n",
        "  print('Epoch {} Loss {:.4f}'.format(epoch + 1,\n",
        "                                      total_loss / steps_per_epoch))\n",
        "  print('Time taken for 1 epoch {} sec\\n'.format(time.time() - start))"
      ]
    },
    {
      "cell_type": "markdown",
      "metadata": {
        "id": "mU3Ce8M6I3rz"
      },
      "source": [
        "## Translate\n"
      ]
    },
    {
      "cell_type": "code",
      "execution_count": 29,
      "metadata": {
        "id": "EbQpyYs13jF_"
      },
      "outputs": [],
      "source": [
        "def evaluate(sentence):\n",
        "  attention_plot = np.zeros((max_length_targ, max_length_inp))\n",
        "\n",
        "  sentence = preprocess_sentence(sentence)\n",
        "\n",
        "  inputs = [inp_lang.word_index[i] for i in sentence.split(' ')]\n",
        "  inputs = tf.keras.preprocessing.sequence.pad_sequences([inputs],\n",
        "                                                         maxlen=max_length_inp,\n",
        "                                                         padding='post')\n",
        "  inputs = tf.convert_to_tensor(inputs)\n",
        "\n",
        "  result = ''\n",
        "\n",
        "  hidden = [tf.zeros((1, units))]\n",
        "  enc_hidden = encoder(inputs, hidden)\n",
        "\n",
        "  dec_hidden = enc_hidden\n",
        "  dec_input = tf.expand_dims([targ_lang.word_index['<start>']], 0)\n",
        "\n",
        "  for t in range(max_length_targ):\n",
        "    predictions, dec_hidden = decoder(dec_input, dec_hidden)\n",
        "\n",
        "    # storing the attention weights to plot later on\n",
        "    predicted_id = tf.argmax(predictions[0]).numpy()\n",
        "    result += targ_lang.index_word[predicted_id] + ' '\n",
        "\n",
        "    if targ_lang.index_word[predicted_id] == '<end>':\n",
        "      return result, sentence\n",
        "\n",
        "    # the predicted ID is fed back into the model\n",
        "    dec_input = tf.expand_dims([predicted_id], 0)\n",
        "\n",
        "  return result, sentence"
      ]
    },
    {
      "cell_type": "code",
      "execution_count": 30,
      "metadata": {
        "id": "sl9zUHzg3jGI"
      },
      "outputs": [],
      "source": [
        "def translate(sentence):\n",
        "  result, sentence = evaluate(sentence)\n",
        "\n",
        "  print('Input: %s' % (sentence))\n",
        "  print('Predicted translation: {}'.format(result))"
      ]
    },
    {
      "cell_type": "markdown",
      "metadata": {
        "id": "n250XbnjOaqP"
      },
      "source": [
        "## Restore the latest checkpoint and test"
      ]
    },
    {
      "cell_type": "code",
      "execution_count": 31,
      "metadata": {
        "id": "UJpT9D5_OgP6",
        "colab": {
          "base_uri": "https://localhost:8080/"
        },
        "outputId": "02f886b2-2d51-438f-a0c1-ec6a4f8f05f5"
      },
      "outputs": [
        {
          "output_type": "execute_result",
          "data": {
            "text/plain": [
              "<tensorflow.python.training.tracking.util.CheckpointLoadStatus at 0x7fa52cf0f490>"
            ]
          },
          "metadata": {},
          "execution_count": 31
        }
      ],
      "source": [
        "# restoring the latest checkpoint in checkpoint_dir\n",
        "checkpoint.restore(tf.train.latest_checkpoint(checkpoint_dir))"
      ]
    },
    {
      "cell_type": "code",
      "execution_count": 32,
      "metadata": {
        "id": "WrAM0FDomq3E",
        "colab": {
          "base_uri": "https://localhost:8080/"
        },
        "outputId": "58ea3079-78d6-493b-8352-3a343e8cbfdf"
      },
      "outputs": [
        {
          "output_type": "stream",
          "name": "stdout",
          "text": [
            "Input: <start> i imagine that it there on a plate . <end>\n",
            "Predicted translation: я это помню это каждый день . <end> \n"
          ]
        }
      ],
      "source": [
        "translate('I imagine that it there on a plate.')"
      ]
    },
    {
      "cell_type": "code",
      "execution_count": 36,
      "metadata": {
        "id": "5bhFfwcIMX5i",
        "colab": {
          "base_uri": "https://localhost:8080/",
          "height": 311
        },
        "outputId": "ea7efd2e-0236-4869-b4e7-12ca0274d1e7"
      },
      "outputs": [
        {
          "output_type": "error",
          "ename": "KeyError",
          "evalue": "ignored",
          "traceback": [
            "\u001b[0;31m---------------------------------------------------------------------------\u001b[0m",
            "\u001b[0;31mKeyError\u001b[0m                                  Traceback (most recent call last)",
            "\u001b[0;32m<ipython-input-36-1a2fa5cdcd58>\u001b[0m in \u001b[0;36m<module>\u001b[0;34m()\u001b[0m\n\u001b[0;32m----> 1\u001b[0;31m \u001b[0mtranslate\u001b[0m\u001b[0;34m(\u001b[0m\u001b[0;34m'You are whole rendesvous rate.'\u001b[0m\u001b[0;34m)\u001b[0m\u001b[0;34m\u001b[0m\u001b[0;34m\u001b[0m\u001b[0m\n\u001b[0m",
            "\u001b[0;32m<ipython-input-30-d01480530bee>\u001b[0m in \u001b[0;36mtranslate\u001b[0;34m(sentence)\u001b[0m\n\u001b[1;32m      1\u001b[0m \u001b[0;32mdef\u001b[0m \u001b[0mtranslate\u001b[0m\u001b[0;34m(\u001b[0m\u001b[0msentence\u001b[0m\u001b[0;34m)\u001b[0m\u001b[0;34m:\u001b[0m\u001b[0;34m\u001b[0m\u001b[0;34m\u001b[0m\u001b[0m\n\u001b[0;32m----> 2\u001b[0;31m   \u001b[0mresult\u001b[0m\u001b[0;34m,\u001b[0m \u001b[0msentence\u001b[0m \u001b[0;34m=\u001b[0m \u001b[0mevaluate\u001b[0m\u001b[0;34m(\u001b[0m\u001b[0msentence\u001b[0m\u001b[0;34m)\u001b[0m\u001b[0;34m\u001b[0m\u001b[0;34m\u001b[0m\u001b[0m\n\u001b[0m\u001b[1;32m      3\u001b[0m \u001b[0;34m\u001b[0m\u001b[0m\n\u001b[1;32m      4\u001b[0m   \u001b[0mprint\u001b[0m\u001b[0;34m(\u001b[0m\u001b[0;34m'Input: %s'\u001b[0m \u001b[0;34m%\u001b[0m \u001b[0;34m(\u001b[0m\u001b[0msentence\u001b[0m\u001b[0;34m)\u001b[0m\u001b[0;34m)\u001b[0m\u001b[0;34m\u001b[0m\u001b[0;34m\u001b[0m\u001b[0m\n\u001b[1;32m      5\u001b[0m   \u001b[0mprint\u001b[0m\u001b[0;34m(\u001b[0m\u001b[0;34m'Predicted translation: {}'\u001b[0m\u001b[0;34m.\u001b[0m\u001b[0mformat\u001b[0m\u001b[0;34m(\u001b[0m\u001b[0mresult\u001b[0m\u001b[0;34m)\u001b[0m\u001b[0;34m)\u001b[0m\u001b[0;34m\u001b[0m\u001b[0;34m\u001b[0m\u001b[0m\n",
            "\u001b[0;32m<ipython-input-29-baaeed8448d5>\u001b[0m in \u001b[0;36mevaluate\u001b[0;34m(sentence)\u001b[0m\n\u001b[1;32m      4\u001b[0m   \u001b[0msentence\u001b[0m \u001b[0;34m=\u001b[0m \u001b[0mpreprocess_sentence\u001b[0m\u001b[0;34m(\u001b[0m\u001b[0msentence\u001b[0m\u001b[0;34m)\u001b[0m\u001b[0;34m\u001b[0m\u001b[0;34m\u001b[0m\u001b[0m\n\u001b[1;32m      5\u001b[0m \u001b[0;34m\u001b[0m\u001b[0m\n\u001b[0;32m----> 6\u001b[0;31m   \u001b[0minputs\u001b[0m \u001b[0;34m=\u001b[0m \u001b[0;34m[\u001b[0m\u001b[0minp_lang\u001b[0m\u001b[0;34m.\u001b[0m\u001b[0mword_index\u001b[0m\u001b[0;34m[\u001b[0m\u001b[0mi\u001b[0m\u001b[0;34m]\u001b[0m \u001b[0;32mfor\u001b[0m \u001b[0mi\u001b[0m \u001b[0;32min\u001b[0m \u001b[0msentence\u001b[0m\u001b[0;34m.\u001b[0m\u001b[0msplit\u001b[0m\u001b[0;34m(\u001b[0m\u001b[0;34m' '\u001b[0m\u001b[0;34m)\u001b[0m\u001b[0;34m]\u001b[0m\u001b[0;34m\u001b[0m\u001b[0;34m\u001b[0m\u001b[0m\n\u001b[0m\u001b[1;32m      7\u001b[0m   inputs = tf.keras.preprocessing.sequence.pad_sequences([inputs],\n\u001b[1;32m      8\u001b[0m                                                          \u001b[0mmaxlen\u001b[0m\u001b[0;34m=\u001b[0m\u001b[0mmax_length_inp\u001b[0m\u001b[0;34m,\u001b[0m\u001b[0;34m\u001b[0m\u001b[0;34m\u001b[0m\u001b[0m\n",
            "\u001b[0;32m<ipython-input-29-baaeed8448d5>\u001b[0m in \u001b[0;36m<listcomp>\u001b[0;34m(.0)\u001b[0m\n\u001b[1;32m      4\u001b[0m   \u001b[0msentence\u001b[0m \u001b[0;34m=\u001b[0m \u001b[0mpreprocess_sentence\u001b[0m\u001b[0;34m(\u001b[0m\u001b[0msentence\u001b[0m\u001b[0;34m)\u001b[0m\u001b[0;34m\u001b[0m\u001b[0;34m\u001b[0m\u001b[0m\n\u001b[1;32m      5\u001b[0m \u001b[0;34m\u001b[0m\u001b[0m\n\u001b[0;32m----> 6\u001b[0;31m   \u001b[0minputs\u001b[0m \u001b[0;34m=\u001b[0m \u001b[0;34m[\u001b[0m\u001b[0minp_lang\u001b[0m\u001b[0;34m.\u001b[0m\u001b[0mword_index\u001b[0m\u001b[0;34m[\u001b[0m\u001b[0mi\u001b[0m\u001b[0;34m]\u001b[0m \u001b[0;32mfor\u001b[0m \u001b[0mi\u001b[0m \u001b[0;32min\u001b[0m \u001b[0msentence\u001b[0m\u001b[0;34m.\u001b[0m\u001b[0msplit\u001b[0m\u001b[0;34m(\u001b[0m\u001b[0;34m' '\u001b[0m\u001b[0;34m)\u001b[0m\u001b[0;34m]\u001b[0m\u001b[0;34m\u001b[0m\u001b[0;34m\u001b[0m\u001b[0m\n\u001b[0m\u001b[1;32m      7\u001b[0m   inputs = tf.keras.preprocessing.sequence.pad_sequences([inputs],\n\u001b[1;32m      8\u001b[0m                                                          \u001b[0mmaxlen\u001b[0m\u001b[0;34m=\u001b[0m\u001b[0mmax_length_inp\u001b[0m\u001b[0;34m,\u001b[0m\u001b[0;34m\u001b[0m\u001b[0;34m\u001b[0m\u001b[0m\n",
            "\u001b[0;31mKeyError\u001b[0m: 'rendesvous'"
          ]
        }
      ],
      "source": [
        "translate('You are whole rendesvous rate.')"
      ]
    },
    {
      "cell_type": "code",
      "execution_count": 38,
      "metadata": {
        "id": "zSx2iM36EZQZ",
        "colab": {
          "base_uri": "https://localhost:8080/"
        },
        "outputId": "fd9475dd-8bbd-429e-b951-2fc1c742f1ad"
      },
      "outputs": [
        {
          "output_type": "stream",
          "name": "stdout",
          "text": [
            "Input: <start> means that you never be frightened <end>\n",
            "Predicted translation: да ? тебе правда нравится . <end> \n"
          ]
        }
      ],
      "source": [
        "translate(u'Means that you never be frightened')"
      ]
    },
    {
      "cell_type": "code",
      "execution_count": 39,
      "metadata": {
        "id": "A3LLCx3ZE0Ls",
        "colab": {
          "base_uri": "https://localhost:8080/",
          "height": 311
        },
        "outputId": "f7466031-a3a6-4c52-e93b-0dc0b8a881e1"
      },
      "outputs": [
        {
          "output_type": "error",
          "ename": "KeyError",
          "evalue": "ignored",
          "traceback": [
            "\u001b[0;31m---------------------------------------------------------------------------\u001b[0m",
            "\u001b[0;31mKeyError\u001b[0m                                  Traceback (most recent call last)",
            "\u001b[0;32m<ipython-input-39-f904bfb7acaf>\u001b[0m in \u001b[0;36m<module>\u001b[0;34m()\u001b[0m\n\u001b[0;32m----> 1\u001b[0;31m \u001b[0mtranslate\u001b[0m\u001b[0;34m(\u001b[0m\u001b[0;34mu'To make em wait for a while'\u001b[0m\u001b[0;34m)\u001b[0m\u001b[0;34m\u001b[0m\u001b[0;34m\u001b[0m\u001b[0m\n\u001b[0m",
            "\u001b[0;32m<ipython-input-30-d01480530bee>\u001b[0m in \u001b[0;36mtranslate\u001b[0;34m(sentence)\u001b[0m\n\u001b[1;32m      1\u001b[0m \u001b[0;32mdef\u001b[0m \u001b[0mtranslate\u001b[0m\u001b[0;34m(\u001b[0m\u001b[0msentence\u001b[0m\u001b[0;34m)\u001b[0m\u001b[0;34m:\u001b[0m\u001b[0;34m\u001b[0m\u001b[0;34m\u001b[0m\u001b[0m\n\u001b[0;32m----> 2\u001b[0;31m   \u001b[0mresult\u001b[0m\u001b[0;34m,\u001b[0m \u001b[0msentence\u001b[0m \u001b[0;34m=\u001b[0m \u001b[0mevaluate\u001b[0m\u001b[0;34m(\u001b[0m\u001b[0msentence\u001b[0m\u001b[0;34m)\u001b[0m\u001b[0;34m\u001b[0m\u001b[0;34m\u001b[0m\u001b[0m\n\u001b[0m\u001b[1;32m      3\u001b[0m \u001b[0;34m\u001b[0m\u001b[0m\n\u001b[1;32m      4\u001b[0m   \u001b[0mprint\u001b[0m\u001b[0;34m(\u001b[0m\u001b[0;34m'Input: %s'\u001b[0m \u001b[0;34m%\u001b[0m \u001b[0;34m(\u001b[0m\u001b[0msentence\u001b[0m\u001b[0;34m)\u001b[0m\u001b[0;34m)\u001b[0m\u001b[0;34m\u001b[0m\u001b[0;34m\u001b[0m\u001b[0m\n\u001b[1;32m      5\u001b[0m   \u001b[0mprint\u001b[0m\u001b[0;34m(\u001b[0m\u001b[0;34m'Predicted translation: {}'\u001b[0m\u001b[0;34m.\u001b[0m\u001b[0mformat\u001b[0m\u001b[0;34m(\u001b[0m\u001b[0mresult\u001b[0m\u001b[0;34m)\u001b[0m\u001b[0;34m)\u001b[0m\u001b[0;34m\u001b[0m\u001b[0;34m\u001b[0m\u001b[0m\n",
            "\u001b[0;32m<ipython-input-29-baaeed8448d5>\u001b[0m in \u001b[0;36mevaluate\u001b[0;34m(sentence)\u001b[0m\n\u001b[1;32m      4\u001b[0m   \u001b[0msentence\u001b[0m \u001b[0;34m=\u001b[0m \u001b[0mpreprocess_sentence\u001b[0m\u001b[0;34m(\u001b[0m\u001b[0msentence\u001b[0m\u001b[0;34m)\u001b[0m\u001b[0;34m\u001b[0m\u001b[0;34m\u001b[0m\u001b[0m\n\u001b[1;32m      5\u001b[0m \u001b[0;34m\u001b[0m\u001b[0m\n\u001b[0;32m----> 6\u001b[0;31m   \u001b[0minputs\u001b[0m \u001b[0;34m=\u001b[0m \u001b[0;34m[\u001b[0m\u001b[0minp_lang\u001b[0m\u001b[0;34m.\u001b[0m\u001b[0mword_index\u001b[0m\u001b[0;34m[\u001b[0m\u001b[0mi\u001b[0m\u001b[0;34m]\u001b[0m \u001b[0;32mfor\u001b[0m \u001b[0mi\u001b[0m \u001b[0;32min\u001b[0m \u001b[0msentence\u001b[0m\u001b[0;34m.\u001b[0m\u001b[0msplit\u001b[0m\u001b[0;34m(\u001b[0m\u001b[0;34m' '\u001b[0m\u001b[0;34m)\u001b[0m\u001b[0;34m]\u001b[0m\u001b[0;34m\u001b[0m\u001b[0;34m\u001b[0m\u001b[0m\n\u001b[0m\u001b[1;32m      7\u001b[0m   inputs = tf.keras.preprocessing.sequence.pad_sequences([inputs],\n\u001b[1;32m      8\u001b[0m                                                          \u001b[0mmaxlen\u001b[0m\u001b[0;34m=\u001b[0m\u001b[0mmax_length_inp\u001b[0m\u001b[0;34m,\u001b[0m\u001b[0;34m\u001b[0m\u001b[0;34m\u001b[0m\u001b[0m\n",
            "\u001b[0;32m<ipython-input-29-baaeed8448d5>\u001b[0m in \u001b[0;36m<listcomp>\u001b[0;34m(.0)\u001b[0m\n\u001b[1;32m      4\u001b[0m   \u001b[0msentence\u001b[0m \u001b[0;34m=\u001b[0m \u001b[0mpreprocess_sentence\u001b[0m\u001b[0;34m(\u001b[0m\u001b[0msentence\u001b[0m\u001b[0;34m)\u001b[0m\u001b[0;34m\u001b[0m\u001b[0;34m\u001b[0m\u001b[0m\n\u001b[1;32m      5\u001b[0m \u001b[0;34m\u001b[0m\u001b[0m\n\u001b[0;32m----> 6\u001b[0;31m   \u001b[0minputs\u001b[0m \u001b[0;34m=\u001b[0m \u001b[0;34m[\u001b[0m\u001b[0minp_lang\u001b[0m\u001b[0;34m.\u001b[0m\u001b[0mword_index\u001b[0m\u001b[0;34m[\u001b[0m\u001b[0mi\u001b[0m\u001b[0;34m]\u001b[0m \u001b[0;32mfor\u001b[0m \u001b[0mi\u001b[0m \u001b[0;32min\u001b[0m \u001b[0msentence\u001b[0m\u001b[0;34m.\u001b[0m\u001b[0msplit\u001b[0m\u001b[0;34m(\u001b[0m\u001b[0;34m' '\u001b[0m\u001b[0;34m)\u001b[0m\u001b[0;34m]\u001b[0m\u001b[0;34m\u001b[0m\u001b[0;34m\u001b[0m\u001b[0m\n\u001b[0m\u001b[1;32m      7\u001b[0m   inputs = tf.keras.preprocessing.sequence.pad_sequences([inputs],\n\u001b[1;32m      8\u001b[0m                                                          \u001b[0mmaxlen\u001b[0m\u001b[0;34m=\u001b[0m\u001b[0mmax_length_inp\u001b[0m\u001b[0;34m,\u001b[0m\u001b[0;34m\u001b[0m\u001b[0;34m\u001b[0m\u001b[0m\n",
            "\u001b[0;31mKeyError\u001b[0m: 'em'"
          ]
        }
      ],
      "source": [
        "translate(u'To make em wait for a while')"
      ]
    },
    {
      "cell_type": "code",
      "execution_count": 40,
      "metadata": {
        "id": "DUQVLVqUE1YW",
        "colab": {
          "base_uri": "https://localhost:8080/"
        },
        "outputId": "9175c447-5a23-4b03-c243-f79837fa2f8d"
      },
      "outputs": [
        {
          "output_type": "stream",
          "name": "stdout",
          "text": [
            "Input: <start> i doubt its your style <end>\n",
            "Predicted translation: я очень уважаю в машину . <end> \n"
          ]
        }
      ],
      "source": [
        "translate(u'I doubt its your style')"
      ]
    },
    {
      "cell_type": "code",
      "execution_count": 41,
      "metadata": {
        "id": "f09_hUFx9EJh",
        "colab": {
          "base_uri": "https://localhost:8080/"
        },
        "outputId": "8dd3e6c2-0040-4d84-c12f-3193be0f6bfc"
      },
      "outputs": [
        {
          "output_type": "stream",
          "name": "stdout",
          "text": [
            "Input: <start> not to get what you set <end>\n",
            "Predicted translation: не вас надо было много ? <end> \n"
          ]
        }
      ],
      "source": [
        "translate(u'Not to get what you set')"
      ]
    },
    {
      "cell_type": "code",
      "execution_count": 45,
      "metadata": {
        "id": "e7c5p8rmkHQG",
        "colab": {
          "base_uri": "https://localhost:8080/",
          "height": 311
        },
        "outputId": "de9568c4-3fe2-4ad1-f784-f87952ae8264"
      },
      "outputs": [
        {
          "output_type": "error",
          "ename": "KeyError",
          "evalue": "ignored",
          "traceback": [
            "\u001b[0;31m---------------------------------------------------------------------------\u001b[0m",
            "\u001b[0;31mKeyError\u001b[0m                                  Traceback (most recent call last)",
            "\u001b[0;32m<ipython-input-45-579f5e878179>\u001b[0m in \u001b[0;36m<module>\u001b[0;34m()\u001b[0m\n\u001b[0;32m----> 1\u001b[0;31m \u001b[0mtranslate\u001b[0m\u001b[0;34m(\u001b[0m\u001b[0;34mu'Out to acquired'\u001b[0m\u001b[0;34m)\u001b[0m\u001b[0;34m\u001b[0m\u001b[0;34m\u001b[0m\u001b[0m\n\u001b[0m",
            "\u001b[0;32m<ipython-input-30-d01480530bee>\u001b[0m in \u001b[0;36mtranslate\u001b[0;34m(sentence)\u001b[0m\n\u001b[1;32m      1\u001b[0m \u001b[0;32mdef\u001b[0m \u001b[0mtranslate\u001b[0m\u001b[0;34m(\u001b[0m\u001b[0msentence\u001b[0m\u001b[0;34m)\u001b[0m\u001b[0;34m:\u001b[0m\u001b[0;34m\u001b[0m\u001b[0;34m\u001b[0m\u001b[0m\n\u001b[0;32m----> 2\u001b[0;31m   \u001b[0mresult\u001b[0m\u001b[0;34m,\u001b[0m \u001b[0msentence\u001b[0m \u001b[0;34m=\u001b[0m \u001b[0mevaluate\u001b[0m\u001b[0;34m(\u001b[0m\u001b[0msentence\u001b[0m\u001b[0;34m)\u001b[0m\u001b[0;34m\u001b[0m\u001b[0;34m\u001b[0m\u001b[0m\n\u001b[0m\u001b[1;32m      3\u001b[0m \u001b[0;34m\u001b[0m\u001b[0m\n\u001b[1;32m      4\u001b[0m   \u001b[0mprint\u001b[0m\u001b[0;34m(\u001b[0m\u001b[0;34m'Input: %s'\u001b[0m \u001b[0;34m%\u001b[0m \u001b[0;34m(\u001b[0m\u001b[0msentence\u001b[0m\u001b[0;34m)\u001b[0m\u001b[0;34m)\u001b[0m\u001b[0;34m\u001b[0m\u001b[0;34m\u001b[0m\u001b[0m\n\u001b[1;32m      5\u001b[0m   \u001b[0mprint\u001b[0m\u001b[0;34m(\u001b[0m\u001b[0;34m'Predicted translation: {}'\u001b[0m\u001b[0;34m.\u001b[0m\u001b[0mformat\u001b[0m\u001b[0;34m(\u001b[0m\u001b[0mresult\u001b[0m\u001b[0;34m)\u001b[0m\u001b[0;34m)\u001b[0m\u001b[0;34m\u001b[0m\u001b[0;34m\u001b[0m\u001b[0m\n",
            "\u001b[0;32m<ipython-input-29-baaeed8448d5>\u001b[0m in \u001b[0;36mevaluate\u001b[0;34m(sentence)\u001b[0m\n\u001b[1;32m      4\u001b[0m   \u001b[0msentence\u001b[0m \u001b[0;34m=\u001b[0m \u001b[0mpreprocess_sentence\u001b[0m\u001b[0;34m(\u001b[0m\u001b[0msentence\u001b[0m\u001b[0;34m)\u001b[0m\u001b[0;34m\u001b[0m\u001b[0;34m\u001b[0m\u001b[0m\n\u001b[1;32m      5\u001b[0m \u001b[0;34m\u001b[0m\u001b[0m\n\u001b[0;32m----> 6\u001b[0;31m   \u001b[0minputs\u001b[0m \u001b[0;34m=\u001b[0m \u001b[0;34m[\u001b[0m\u001b[0minp_lang\u001b[0m\u001b[0;34m.\u001b[0m\u001b[0mword_index\u001b[0m\u001b[0;34m[\u001b[0m\u001b[0mi\u001b[0m\u001b[0;34m]\u001b[0m \u001b[0;32mfor\u001b[0m \u001b[0mi\u001b[0m \u001b[0;32min\u001b[0m \u001b[0msentence\u001b[0m\u001b[0;34m.\u001b[0m\u001b[0msplit\u001b[0m\u001b[0;34m(\u001b[0m\u001b[0;34m' '\u001b[0m\u001b[0;34m)\u001b[0m\u001b[0;34m]\u001b[0m\u001b[0;34m\u001b[0m\u001b[0;34m\u001b[0m\u001b[0m\n\u001b[0m\u001b[1;32m      7\u001b[0m   inputs = tf.keras.preprocessing.sequence.pad_sequences([inputs],\n\u001b[1;32m      8\u001b[0m                                                          \u001b[0mmaxlen\u001b[0m\u001b[0;34m=\u001b[0m\u001b[0mmax_length_inp\u001b[0m\u001b[0;34m,\u001b[0m\u001b[0;34m\u001b[0m\u001b[0;34m\u001b[0m\u001b[0m\n",
            "\u001b[0;32m<ipython-input-29-baaeed8448d5>\u001b[0m in \u001b[0;36m<listcomp>\u001b[0;34m(.0)\u001b[0m\n\u001b[1;32m      4\u001b[0m   \u001b[0msentence\u001b[0m \u001b[0;34m=\u001b[0m \u001b[0mpreprocess_sentence\u001b[0m\u001b[0;34m(\u001b[0m\u001b[0msentence\u001b[0m\u001b[0;34m)\u001b[0m\u001b[0;34m\u001b[0m\u001b[0;34m\u001b[0m\u001b[0m\n\u001b[1;32m      5\u001b[0m \u001b[0;34m\u001b[0m\u001b[0m\n\u001b[0;32m----> 6\u001b[0;31m   \u001b[0minputs\u001b[0m \u001b[0;34m=\u001b[0m \u001b[0;34m[\u001b[0m\u001b[0minp_lang\u001b[0m\u001b[0;34m.\u001b[0m\u001b[0mword_index\u001b[0m\u001b[0;34m[\u001b[0m\u001b[0mi\u001b[0m\u001b[0;34m]\u001b[0m \u001b[0;32mfor\u001b[0m \u001b[0mi\u001b[0m \u001b[0;32min\u001b[0m \u001b[0msentence\u001b[0m\u001b[0;34m.\u001b[0m\u001b[0msplit\u001b[0m\u001b[0;34m(\u001b[0m\u001b[0;34m' '\u001b[0m\u001b[0;34m)\u001b[0m\u001b[0;34m]\u001b[0m\u001b[0;34m\u001b[0m\u001b[0;34m\u001b[0m\u001b[0m\n\u001b[0m\u001b[1;32m      7\u001b[0m   inputs = tf.keras.preprocessing.sequence.pad_sequences([inputs],\n\u001b[1;32m      8\u001b[0m                                                          \u001b[0mmaxlen\u001b[0m\u001b[0;34m=\u001b[0m\u001b[0mmax_length_inp\u001b[0m\u001b[0;34m,\u001b[0m\u001b[0;34m\u001b[0m\u001b[0;34m\u001b[0m\u001b[0m\n",
            "\u001b[0;31mKeyError\u001b[0m: 'acquired'"
          ]
        }
      ],
      "source": [
        "translate(u'Out to acquired')"
      ]
    },
    {
      "cell_type": "code",
      "execution_count": 47,
      "metadata": {
        "id": "jdXES85KkTVS",
        "colab": {
          "base_uri": "https://localhost:8080/"
        },
        "outputId": "8428141c-eeb1-4566-b8ad-5d6c21aa8b92"
      },
      "outputs": [
        {
          "output_type": "stream",
          "name": "stdout",
          "text": [
            "Input: <start> the odd are on fire <end>\n",
            "Predicted translation: огонь не горит . <end> \n"
          ]
        }
      ],
      "source": [
        "translate(u'The odd are on fire')"
      ]
    },
    {
      "cell_type": "code",
      "source": [
        "translate(u'You are the not forecast storm')"
      ],
      "metadata": {
        "id": "Aw4473a5dtMr",
        "colab": {
          "base_uri": "https://localhost:8080/",
          "height": 311
        },
        "outputId": "198dd8ca-02c9-4770-8097-8140f7eb6f76"
      },
      "execution_count": 53,
      "outputs": [
        {
          "output_type": "error",
          "ename": "KeyError",
          "evalue": "ignored",
          "traceback": [
            "\u001b[0;31m---------------------------------------------------------------------------\u001b[0m",
            "\u001b[0;31mKeyError\u001b[0m                                  Traceback (most recent call last)",
            "\u001b[0;32m<ipython-input-53-12f8db4d30ea>\u001b[0m in \u001b[0;36m<module>\u001b[0;34m()\u001b[0m\n\u001b[0;32m----> 1\u001b[0;31m \u001b[0mtranslate\u001b[0m\u001b[0;34m(\u001b[0m\u001b[0;34mu'You are the not forecast storm'\u001b[0m\u001b[0;34m)\u001b[0m\u001b[0;34m\u001b[0m\u001b[0;34m\u001b[0m\u001b[0m\n\u001b[0m",
            "\u001b[0;32m<ipython-input-30-d01480530bee>\u001b[0m in \u001b[0;36mtranslate\u001b[0;34m(sentence)\u001b[0m\n\u001b[1;32m      1\u001b[0m \u001b[0;32mdef\u001b[0m \u001b[0mtranslate\u001b[0m\u001b[0;34m(\u001b[0m\u001b[0msentence\u001b[0m\u001b[0;34m)\u001b[0m\u001b[0;34m:\u001b[0m\u001b[0;34m\u001b[0m\u001b[0;34m\u001b[0m\u001b[0m\n\u001b[0;32m----> 2\u001b[0;31m   \u001b[0mresult\u001b[0m\u001b[0;34m,\u001b[0m \u001b[0msentence\u001b[0m \u001b[0;34m=\u001b[0m \u001b[0mevaluate\u001b[0m\u001b[0;34m(\u001b[0m\u001b[0msentence\u001b[0m\u001b[0;34m)\u001b[0m\u001b[0;34m\u001b[0m\u001b[0;34m\u001b[0m\u001b[0m\n\u001b[0m\u001b[1;32m      3\u001b[0m \u001b[0;34m\u001b[0m\u001b[0m\n\u001b[1;32m      4\u001b[0m   \u001b[0mprint\u001b[0m\u001b[0;34m(\u001b[0m\u001b[0;34m'Input: %s'\u001b[0m \u001b[0;34m%\u001b[0m \u001b[0;34m(\u001b[0m\u001b[0msentence\u001b[0m\u001b[0;34m)\u001b[0m\u001b[0;34m)\u001b[0m\u001b[0;34m\u001b[0m\u001b[0;34m\u001b[0m\u001b[0m\n\u001b[1;32m      5\u001b[0m   \u001b[0mprint\u001b[0m\u001b[0;34m(\u001b[0m\u001b[0;34m'Predicted translation: {}'\u001b[0m\u001b[0;34m.\u001b[0m\u001b[0mformat\u001b[0m\u001b[0;34m(\u001b[0m\u001b[0mresult\u001b[0m\u001b[0;34m)\u001b[0m\u001b[0;34m)\u001b[0m\u001b[0;34m\u001b[0m\u001b[0;34m\u001b[0m\u001b[0m\n",
            "\u001b[0;32m<ipython-input-29-baaeed8448d5>\u001b[0m in \u001b[0;36mevaluate\u001b[0;34m(sentence)\u001b[0m\n\u001b[1;32m      4\u001b[0m   \u001b[0msentence\u001b[0m \u001b[0;34m=\u001b[0m \u001b[0mpreprocess_sentence\u001b[0m\u001b[0;34m(\u001b[0m\u001b[0msentence\u001b[0m\u001b[0;34m)\u001b[0m\u001b[0;34m\u001b[0m\u001b[0;34m\u001b[0m\u001b[0m\n\u001b[1;32m      5\u001b[0m \u001b[0;34m\u001b[0m\u001b[0m\n\u001b[0;32m----> 6\u001b[0;31m   \u001b[0minputs\u001b[0m \u001b[0;34m=\u001b[0m \u001b[0;34m[\u001b[0m\u001b[0minp_lang\u001b[0m\u001b[0;34m.\u001b[0m\u001b[0mword_index\u001b[0m\u001b[0;34m[\u001b[0m\u001b[0mi\u001b[0m\u001b[0;34m]\u001b[0m \u001b[0;32mfor\u001b[0m \u001b[0mi\u001b[0m \u001b[0;32min\u001b[0m \u001b[0msentence\u001b[0m\u001b[0;34m.\u001b[0m\u001b[0msplit\u001b[0m\u001b[0;34m(\u001b[0m\u001b[0;34m' '\u001b[0m\u001b[0;34m)\u001b[0m\u001b[0;34m]\u001b[0m\u001b[0;34m\u001b[0m\u001b[0;34m\u001b[0m\u001b[0m\n\u001b[0m\u001b[1;32m      7\u001b[0m   inputs = tf.keras.preprocessing.sequence.pad_sequences([inputs],\n\u001b[1;32m      8\u001b[0m                                                          \u001b[0mmaxlen\u001b[0m\u001b[0;34m=\u001b[0m\u001b[0mmax_length_inp\u001b[0m\u001b[0;34m,\u001b[0m\u001b[0;34m\u001b[0m\u001b[0;34m\u001b[0m\u001b[0m\n",
            "\u001b[0;32m<ipython-input-29-baaeed8448d5>\u001b[0m in \u001b[0;36m<listcomp>\u001b[0;34m(.0)\u001b[0m\n\u001b[1;32m      4\u001b[0m   \u001b[0msentence\u001b[0m \u001b[0;34m=\u001b[0m \u001b[0mpreprocess_sentence\u001b[0m\u001b[0;34m(\u001b[0m\u001b[0msentence\u001b[0m\u001b[0;34m)\u001b[0m\u001b[0;34m\u001b[0m\u001b[0;34m\u001b[0m\u001b[0m\n\u001b[1;32m      5\u001b[0m \u001b[0;34m\u001b[0m\u001b[0m\n\u001b[0;32m----> 6\u001b[0;31m   \u001b[0minputs\u001b[0m \u001b[0;34m=\u001b[0m \u001b[0;34m[\u001b[0m\u001b[0minp_lang\u001b[0m\u001b[0;34m.\u001b[0m\u001b[0mword_index\u001b[0m\u001b[0;34m[\u001b[0m\u001b[0mi\u001b[0m\u001b[0;34m]\u001b[0m \u001b[0;32mfor\u001b[0m \u001b[0mi\u001b[0m \u001b[0;32min\u001b[0m \u001b[0msentence\u001b[0m\u001b[0;34m.\u001b[0m\u001b[0msplit\u001b[0m\u001b[0;34m(\u001b[0m\u001b[0;34m' '\u001b[0m\u001b[0;34m)\u001b[0m\u001b[0;34m]\u001b[0m\u001b[0;34m\u001b[0m\u001b[0;34m\u001b[0m\u001b[0m\n\u001b[0m\u001b[1;32m      7\u001b[0m   inputs = tf.keras.preprocessing.sequence.pad_sequences([inputs],\n\u001b[1;32m      8\u001b[0m                                                          \u001b[0mmaxlen\u001b[0m\u001b[0;34m=\u001b[0m\u001b[0mmax_length_inp\u001b[0m\u001b[0;34m,\u001b[0m\u001b[0;34m\u001b[0m\u001b[0;34m\u001b[0m\u001b[0m\n",
            "\u001b[0;31mKeyError\u001b[0m: 'forecast'"
          ]
        }
      ]
    },
    {
      "cell_type": "markdown",
      "source": [
        "# Neural machine translation with attention"
      ],
      "metadata": {
        "id": "lYVK_xVyct6S"
      }
    },
    {
      "cell_type": "code",
      "source": [
        "class Encoder(tf.keras.Model):\n",
        "  def __init__(self, vocab_size, embedding_dim, enc_units, batch_sz):\n",
        "    super(Encoder, self).__init__()\n",
        "    self.batch_sz = batch_sz\n",
        "    self.enc_units = enc_units\n",
        "    self.embedding = tf.keras.layers.Embedding(vocab_size, embedding_dim)\n",
        "    self.gru = tf.keras.layers.GRU(self.enc_units,\n",
        "                                   return_sequences=True,\n",
        "                                   return_state=True,\n",
        "                                   recurrent_initializer='glorot_uniform')\n",
        "\n",
        "  def call(self, x, hidden):\n",
        "    x = self.embedding(x)\n",
        "    output, state = self.gru(x, initial_state = hidden)\n",
        "    return output, state\n",
        "\n",
        "  def initialize_hidden_state(self):\n",
        "    return tf.zeros((self.batch_sz, self.enc_units))"
      ],
      "metadata": {
        "id": "4osgkMUOcvGU"
      },
      "execution_count": null,
      "outputs": []
    },
    {
      "cell_type": "code",
      "source": [
        "encoder = Encoder(vocab_inp_size, embedding_dim, units, BATCH_SIZE)\n",
        "\n",
        "# sample input\n",
        "sample_hidden = encoder.initialize_hidden_state()\n",
        "sample_output, sample_hidden = encoder(example_input_batch, sample_hidden)\n",
        "print ('Encoder output shape: (batch size, sequence length, units) {}'.format(sample_output.shape))\n",
        "print ('Encoder Hidden state shape: (batch size, units) {}'.format(sample_hidden.shape))"
      ],
      "metadata": {
        "id": "BQRZp37mc2eo"
      },
      "execution_count": null,
      "outputs": []
    },
    {
      "cell_type": "code",
      "source": [
        "class BahdanauAttention(tf.keras.layers.Layer):\n",
        "  def __init__(self, units):\n",
        "    super(BahdanauAttention, self).__init__()\n",
        "    self.W1 = tf.keras.layers.Dense(units)\n",
        "    self.W2 = tf.keras.layers.Dense(units)\n",
        "    self.V = tf.keras.layers.Dense(1)\n",
        "\n",
        "  def call(self, query, values):\n",
        "    # query hidden state shape == (batch_size, hidden size)\n",
        "    # query_with_time_axis shape == (batch_size, 1, hidden size)\n",
        "    # values shape == (batch_size, max_len, hidden size)\n",
        "    # we are doing this to broadcast addition along the time axis to calculate the score\n",
        "    query_with_time_axis = tf.expand_dims(query, 1)\n",
        "\n",
        "    # score shape == (batch_size, max_length, 1)\n",
        "    # we get 1 at the last axis because we are applying score to self.V\n",
        "    # the shape of the tensor before applying self.V is (batch_size, max_length, units)\n",
        "    score = self.V(tf.nn.tanh(\n",
        "        self.W1(query_with_time_axis) + self.W2(values)))\n",
        "\n",
        "    # attention_weights shape == (batch_size, max_length, 1)\n",
        "    attention_weights = tf.nn.softmax(score, axis=1)\n",
        "\n",
        "    # context_vector shape after sum == (batch_size, hidden_size)\n",
        "    context_vector = attention_weights * values\n",
        "    context_vector = tf.reduce_sum(context_vector, axis=1)\n",
        "\n",
        "    return context_vector, attention_weights"
      ],
      "metadata": {
        "id": "McCJB5bZc284"
      },
      "execution_count": null,
      "outputs": []
    },
    {
      "cell_type": "code",
      "source": [
        "attention_layer = BahdanauAttention(10)\n",
        "attention_result, attention_weights = attention_layer(sample_hidden, sample_output)\n",
        "\n",
        "print(\"Attention result shape: (batch size, units) {}\".format(attention_result.shape))\n",
        "print(\"Attention weights shape: (batch_size, sequence_length, 1) {}\".format(attention_weights.shape))"
      ],
      "metadata": {
        "id": "tMauhnxhc2_4"
      },
      "execution_count": null,
      "outputs": []
    },
    {
      "cell_type": "code",
      "source": [
        "class Decoder(tf.keras.Model):\n",
        "  def __init__(self, vocab_size, embedding_dim, dec_units, batch_sz):\n",
        "    super(Decoder, self).__init__()\n",
        "    self.batch_sz = batch_sz\n",
        "    self.dec_units = dec_units\n",
        "    self.embedding = tf.keras.layers.Embedding(vocab_size, embedding_dim)\n",
        "    self.gru = tf.keras.layers.GRU(self.dec_units,\n",
        "                                   return_sequences=True,\n",
        "                                   return_state=True,\n",
        "                                   recurrent_initializer='glorot_uniform')\n",
        "    self.fc = tf.keras.layers.Dense(vocab_size)\n",
        "\n",
        "    # used for attention\n",
        "    self.attention = BahdanauAttention(self.dec_units)\n",
        "\n",
        "  def call(self, x, hidden, enc_output):\n",
        "    # enc_output shape == (batch_size, max_length, hidden_size)\n",
        "    context_vector, attention_weights = self.attention(hidden, enc_output)\n",
        "\n",
        "    # x shape after passing through embedding == (batch_size, 1, embedding_dim)\n",
        "    x = self.embedding(x)\n",
        "\n",
        "    # x shape after concatenation == (batch_size, 1, embedding_dim + hidden_size)\n",
        "    x = tf.concat([tf.expand_dims(context_vector, 1), x], axis=-1)\n",
        "\n",
        "    # passing the concatenated vector to the GRU\n",
        "    output, state = self.gru(x)\n",
        "\n",
        "    # output shape == (batch_size * 1, hidden_size)\n",
        "    output = tf.reshape(output, (-1, output.shape[2]))\n",
        "\n",
        "    # output shape == (batch_size, vocab)\n",
        "    x = self.fc(output)\n",
        "\n",
        "    return x, state, attention_weights"
      ],
      "metadata": {
        "id": "PuATZgrxc3C4"
      },
      "execution_count": null,
      "outputs": []
    },
    {
      "cell_type": "code",
      "source": [
        "decoder = Decoder(vocab_tar_size, embedding_dim, units, BATCH_SIZE)\n",
        "\n",
        "sample_decoder_output, _, _ = decoder(tf.random.uniform((BATCH_SIZE, 1)),\n",
        "                                      sample_hidden, sample_output)\n",
        "\n",
        "print ('Decoder output shape: (batch_size, vocab size) {}'.format(sample_decoder_output.shape))"
      ],
      "metadata": {
        "id": "UyTLWXU_dLbg"
      },
      "execution_count": null,
      "outputs": []
    },
    {
      "cell_type": "code",
      "source": [
        "optimizer = tf.keras.optimizers.Adam()\n",
        "loss_object = tf.keras.losses.SparseCategoricalCrossentropy(\n",
        "    from_logits=True, reduction='none')\n",
        "\n",
        "def loss_function(real, pred):\n",
        "  mask = tf.math.logical_not(tf.math.equal(real, 0))\n",
        "  loss_ = loss_object(real, pred)\n",
        "\n",
        "  mask = tf.cast(mask, dtype=loss_.dtype)\n",
        "  loss_ *= mask\n",
        "\n",
        "  return tf.reduce_mean(loss_)"
      ],
      "metadata": {
        "id": "0SkfyaTndLjR"
      },
      "execution_count": null,
      "outputs": []
    },
    {
      "cell_type": "markdown",
      "source": [
        "Checkpoints (Object-based saving)"
      ],
      "metadata": {
        "id": "LKBQRAiPdRgZ"
      }
    },
    {
      "cell_type": "code",
      "source": [
        "checkpoint_dir = './training_attention_checkpoints'\n",
        "checkpoint_prefix = os.path.join(checkpoint_dir, \"ckpt\")\n",
        "checkpoint = tf.train.Checkpoint(optimizer=optimizer,\n",
        "                                 encoder=encoder,\n",
        "                                 decoder=decoder)"
      ],
      "metadata": {
        "id": "bDwSuXDJdLmw"
      },
      "execution_count": null,
      "outputs": []
    },
    {
      "cell_type": "code",
      "source": [
        "@tf.function\n",
        "def train_step(inp, targ, enc_hidden):\n",
        "  loss = 0\n",
        "\n",
        "  with tf.GradientTape() as tape:\n",
        "    enc_output, enc_hidden = encoder(inp, enc_hidden)\n",
        "\n",
        "    dec_hidden = enc_hidden\n",
        "\n",
        "    dec_input = tf.expand_dims([targ_lang.word_index['<start>']] * BATCH_SIZE, 1)\n",
        "\n",
        "    # Teacher forcing - feeding the target as the next input\n",
        "    for t in range(1, targ.shape[1]):\n",
        "      # passing enc_output to the decoder\n",
        "      predictions, dec_hidden, _ = decoder(dec_input, dec_hidden, enc_output)\n",
        "\n",
        "      loss += loss_function(targ[:, t], predictions)\n",
        "\n",
        "      # using teacher forcing\n",
        "      dec_input = tf.expand_dims(targ[:, t], 1)\n",
        "\n",
        "  batch_loss = (loss / int(targ.shape[1]))\n",
        "\n",
        "  variables = encoder.trainable_variables + decoder.trainable_variables\n",
        "\n",
        "  gradients = tape.gradient(loss, variables)\n",
        "\n",
        "  optimizer.apply_gradients(zip(gradients, variables))\n",
        "\n",
        "  return batch_loss"
      ],
      "metadata": {
        "id": "YVy2lM0XdZiZ"
      },
      "execution_count": null,
      "outputs": []
    },
    {
      "cell_type": "code",
      "source": [
        "EPOCHS = 50\n",
        "\n",
        "for epoch in range(EPOCHS):\n",
        "  start = time.time()\n",
        "\n",
        "  enc_hidden = encoder.initialize_hidden_state()\n",
        "  total_loss = 0\n",
        "\n",
        "  for (batch, (inp, targ)) in enumerate(dataset.take(steps_per_epoch)):\n",
        "    batch_loss = train_step(inp, targ, enc_hidden)\n",
        "    total_loss += batch_loss\n",
        "\n",
        "    if batch % 100 == 0:\n",
        "      print('Epoch {} Batch {} Loss {:.4f}'.format(epoch + 1,\n",
        "                                                   batch,\n",
        "                                                   batch_loss.numpy()))\n",
        "  # saving (checkpoint) the model every 2 epochs\n",
        "  if (epoch + 1) % 2 == 0:\n",
        "    checkpoint.save(file_prefix = checkpoint_prefix)\n",
        "\n",
        "  print('Epoch {} Loss {:.4f}'.format(epoch + 1,\n",
        "                                      total_loss / steps_per_epoch))\n",
        "  print('Time taken for 1 epoch {} sec\\n'.format(time.time() - start))"
      ],
      "metadata": {
        "id": "XdOKI312dZmb"
      },
      "execution_count": null,
      "outputs": []
    },
    {
      "cell_type": "markdown",
      "source": [
        "Translate"
      ],
      "metadata": {
        "id": "zAra-aMldwbK"
      }
    },
    {
      "cell_type": "code",
      "source": [
        "def evaluate(sentence):\n",
        "  attention_plot = np.zeros((max_length_targ, max_length_inp))\n",
        "\n",
        "  sentence = preprocess_sentence(sentence)\n",
        "\n",
        "  inputs = [inp_lang.word_index[i] for i in sentence.split(' ')]\n",
        "  inputs = tf.keras.preprocessing.sequence.pad_sequences([inputs],\n",
        "                                                         maxlen=max_length_inp,\n",
        "                                                         padding='post')\n",
        "  inputs = tf.convert_to_tensor(inputs)\n",
        "\n",
        "  result = ''\n",
        "\n",
        "  hidden = [tf.zeros((1, units))]\n",
        "  enc_out, enc_hidden = encoder(inputs, hidden)\n",
        "\n",
        "  dec_hidden = enc_hidden\n",
        "  dec_input = tf.expand_dims([targ_lang.word_index['<start>']], 0)\n",
        "\n",
        "  for t in range(max_length_targ):\n",
        "    predictions, dec_hidden, attention_weights = decoder(dec_input,\n",
        "                                                         dec_hidden,\n",
        "                                                         enc_out)\n",
        "\n",
        "    # storing the attention weights to plot later on\n",
        "    attention_weights = tf.reshape(attention_weights, (-1, ))\n",
        "    attention_plot[t] = attention_weights.numpy()\n",
        "\n",
        "    predicted_id = tf.argmax(predictions[0]).numpy()\n",
        "\n",
        "    result += targ_lang.index_word[predicted_id] + ' '\n",
        "\n",
        "    if targ_lang.index_word[predicted_id] == '<end>':\n",
        "      return result, sentence, attention_plot\n",
        "\n",
        "    # the predicted ID is fed back into the model\n",
        "    dec_input = tf.expand_dims([predicted_id], 0)\n",
        "\n",
        "  return result, sentence, attention_plot"
      ],
      "metadata": {
        "id": "0TkUx6jUdZsg"
      },
      "execution_count": null,
      "outputs": []
    },
    {
      "cell_type": "code",
      "source": [
        "# function for plotting the attention weights\n",
        "def plot_attention(attention, sentence, predicted_sentence):\n",
        "  fig = plt.figure(figsize=(10,10))\n",
        "  ax = fig.add_subplot(1, 1, 1)\n",
        "  ax.matshow(attention, cmap='viridis')\n",
        "\n",
        "  fontdict = {'fontsize': 14}\n",
        "\n",
        "  ax.set_xticklabels([''] + sentence, fontdict=fontdict, rotation=90)\n",
        "  ax.set_yticklabels([''] + predicted_sentence, fontdict=fontdict)\n",
        "\n",
        "  ax.xaxis.set_major_locator(ticker.MultipleLocator(1))\n",
        "  ax.yaxis.set_major_locator(ticker.MultipleLocator(1))\n",
        "\n",
        "  plt.show()"
      ],
      "metadata": {
        "id": "YWic9LOid1y5"
      },
      "execution_count": null,
      "outputs": []
    },
    {
      "cell_type": "code",
      "source": [
        "def translate(sentence):\n",
        "  result, sentence, attention_plot = evaluate(sentence)\n",
        "\n",
        "  print('Input: %s' % (sentence))\n",
        "  print('Predicted translation: {}'.format(result))\n",
        "\n",
        "  attention_plot = attention_plot[:len(result.split(' ')), :len(sentence.split(' '))]\n",
        "  plot_attention(attention_plot, sentence.split(' '), result.split(' '))"
      ],
      "metadata": {
        "id": "_AQeDu7Cd31h"
      },
      "execution_count": null,
      "outputs": []
    },
    {
      "cell_type": "markdown",
      "source": [
        "## Restore the latest checkpoint and test"
      ],
      "metadata": {
        "id": "u5T3VCm6d9-h"
      }
    },
    {
      "cell_type": "code",
      "source": [
        "# restoring the latest checkpoint in checkpoint_dir\n",
        "checkpoint.restore(tf.train.latest_checkpoint(checkpoint_dir))"
      ],
      "metadata": {
        "id": "Dh0bvm48d9Up"
      },
      "execution_count": null,
      "outputs": []
    },
    {
      "cell_type": "code",
      "source": [
        "translate('I imagine that it there on a plate.')"
      ],
      "metadata": {
        "id": "6E44j9bReLKx"
      },
      "execution_count": null,
      "outputs": []
    },
    {
      "cell_type": "code",
      "source": [
        "translate('You are whole rendezvouz rate.')"
      ],
      "metadata": {
        "id": "_WFi90-6eLcE"
      },
      "execution_count": null,
      "outputs": []
    },
    {
      "cell_type": "code",
      "source": [
        "translate(u'Means that youll never be frightened')"
      ],
      "metadata": {
        "id": "XMrn8ovCeLe2"
      },
      "execution_count": null,
      "outputs": []
    },
    {
      "cell_type": "code",
      "source": [
        "translate(u'Not to get what you set')"
      ],
      "metadata": {
        "id": "XxaIPNlKeLh0"
      },
      "execution_count": null,
      "outputs": []
    },
    {
      "cell_type": "code",
      "source": [
        "translate(u'Out to acquire')"
      ],
      "metadata": {
        "id": "Z9D-DRQFeLkc"
      },
      "execution_count": null,
      "outputs": []
    },
    {
      "cell_type": "code",
      "source": [
        "translate(u'The odds are on fire')"
      ],
      "metadata": {
        "id": "NwZGP87-eLnj"
      },
      "execution_count": null,
      "outputs": []
    },
    {
      "cell_type": "code",
      "source": [
        "translate(u'You are the unforecasted storm')"
      ],
      "metadata": {
        "id": "mEcRweI2eemq"
      },
      "execution_count": null,
      "outputs": []
    }
  ],
  "metadata": {
    "accelerator": "GPU",
    "colab": {
      "collapsed_sections": [],
      "name": "nmt.ipynb",
      "provenance": []
    },
    "kernelspec": {
      "display_name": "Python 3 (ipykernel)",
      "language": "python",
      "name": "python3"
    },
    "language_info": {
      "codemirror_mode": {
        "name": "ipython",
        "version": 3
      },
      "file_extension": ".py",
      "mimetype": "text/x-python",
      "name": "python",
      "nbconvert_exporter": "python",
      "pygments_lexer": "ipython3",
      "version": "3.9.7"
    }
  },
  "nbformat": 4,
  "nbformat_minor": 0
}